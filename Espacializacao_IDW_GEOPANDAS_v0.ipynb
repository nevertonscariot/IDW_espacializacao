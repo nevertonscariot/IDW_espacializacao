{
  "cells": [
    {
      "cell_type": "markdown",
      "metadata": {
        "id": "keO4Q8Vn0InF"
      },
      "source": [
        "# **Geração de IDW automatizada**"
      ]
    },
    {
      "cell_type": "markdown",
      "metadata": {
        "id": "8tb59Zrt0UX9"
      },
      "source": [
        "## Instalando bibliotecas"
      ]
    },
    {
      "cell_type": "code",
      "execution_count": null,
      "metadata": {
        "colab": {
          "base_uri": "https://localhost:8080/"
        },
        "collapsed": true,
        "id": "otG-Yp4syC8x",
        "outputId": "c35e2bc3-94ab-4254-cb71-bd4dd510683c"
      },
      "outputs": [
        {
          "output_type": "stream",
          "name": "stdout",
          "text": [
            "Collecting hydrobr\n",
            "  Downloading hydrobr-0.1.1.tar.gz (16 kB)\n",
            "  Preparing metadata (setup.py) ... \u001b[?25l\u001b[?25hdone\n",
            "Requirement already satisfied: pandas>=0.25 in /usr/local/lib/python3.10/dist-packages (from hydrobr) (2.0.3)\n",
            "Requirement already satisfied: tqdm>=4.31 in /usr/local/lib/python3.10/dist-packages (from hydrobr) (4.66.4)\n",
            "Requirement already satisfied: requests>=2.21 in /usr/local/lib/python3.10/dist-packages (from hydrobr) (2.31.0)\n",
            "Requirement already satisfied: plotly>=4.6.0 in /usr/local/lib/python3.10/dist-packages (from hydrobr) (5.15.0)\n",
            "Requirement already satisfied: python-dateutil>=2.8.2 in /usr/local/lib/python3.10/dist-packages (from pandas>=0.25->hydrobr) (2.8.2)\n",
            "Requirement already satisfied: pytz>=2020.1 in /usr/local/lib/python3.10/dist-packages (from pandas>=0.25->hydrobr) (2023.4)\n",
            "Requirement already satisfied: tzdata>=2022.1 in /usr/local/lib/python3.10/dist-packages (from pandas>=0.25->hydrobr) (2024.1)\n",
            "Requirement already satisfied: numpy>=1.21.0 in /usr/local/lib/python3.10/dist-packages (from pandas>=0.25->hydrobr) (1.25.2)\n",
            "Requirement already satisfied: tenacity>=6.2.0 in /usr/local/lib/python3.10/dist-packages (from plotly>=4.6.0->hydrobr) (8.3.0)\n",
            "Requirement already satisfied: packaging in /usr/local/lib/python3.10/dist-packages (from plotly>=4.6.0->hydrobr) (24.0)\n",
            "Requirement already satisfied: charset-normalizer<4,>=2 in /usr/local/lib/python3.10/dist-packages (from requests>=2.21->hydrobr) (3.3.2)\n",
            "Requirement already satisfied: idna<4,>=2.5 in /usr/local/lib/python3.10/dist-packages (from requests>=2.21->hydrobr) (3.7)\n",
            "Requirement already satisfied: urllib3<3,>=1.21.1 in /usr/local/lib/python3.10/dist-packages (from requests>=2.21->hydrobr) (2.0.7)\n",
            "Requirement already satisfied: certifi>=2017.4.17 in /usr/local/lib/python3.10/dist-packages (from requests>=2.21->hydrobr) (2024.2.2)\n",
            "Requirement already satisfied: six>=1.5 in /usr/local/lib/python3.10/dist-packages (from python-dateutil>=2.8.2->pandas>=0.25->hydrobr) (1.16.0)\n",
            "Building wheels for collected packages: hydrobr\n",
            "  Building wheel for hydrobr (setup.py) ... \u001b[?25l\u001b[?25hdone\n",
            "  Created wheel for hydrobr: filename=hydrobr-0.1.1-py3-none-any.whl size=15070 sha256=7b9fe57147efea23cad38179c8563b82b5b5cd009d8456699fe3de0cf2c2f631\n",
            "  Stored in directory: /root/.cache/pip/wheels/44/9b/89/8fd8f9bf127ee2c08c7fb9c31520f5a80d238702bdd8fd8cd0\n",
            "Successfully built hydrobr\n",
            "Installing collected packages: hydrobr\n",
            "Successfully installed hydrobr-0.1.1\n",
            "Cloning into 'gespla'...\n",
            "remote: Enumerating objects: 256, done.\u001b[K\n",
            "remote: Counting objects: 100% (55/55), done.\u001b[K\n",
            "remote: Compressing objects: 100% (38/38), done.\u001b[K\n",
            "remote: Total 256 (delta 31), reused 39 (delta 17), pack-reused 201\u001b[K\n",
            "Receiving objects: 100% (256/256), 107.08 KiB | 5.95 MiB/s, done.\n",
            "Resolving deltas: 100% (152/152), done.\n"
          ]
        }
      ],
      "source": [
        "!pip install hydrobr #para download e load dos dados de precipitação e vazão\n",
        "!git clone https://github.com/gespla-iph-ufrgs/gespla #Toolbox para análise de séries e outras ferramentas\n",
        "!pip install chart_studio #para plotagem da série de vazão\n",
        "!pip install geopandas\n",
        "!pip install scipy\n",
        "#!pip install baseflow #para separação de escoamento\n",
        "#!pip install cartopy\n",
        "#!pip install rasterio\n",
        "#!pip install gdal"
      ]
    },
    {
      "cell_type": "markdown",
      "metadata": {
        "id": "gjI0LX_m0dBl"
      },
      "source": [
        "## Importando classes e funções"
      ]
    },
    {
      "cell_type": "code",
      "execution_count": null,
      "metadata": {
        "id": "7LDUJWHMzueC"
      },
      "outputs": [],
      "source": [
        "from gespla import download, load, resample, tsa, visuals\n",
        "import hydrobr\n",
        "import geopandas as gpd\n",
        "\n",
        "import numpy as np # linear algebra\n",
        "import pandas as pd # data processing, CSV file I/O (e.g. pd.read_csv)\n",
        "\n",
        "# para plotar Time Series data com Rangeslider\n",
        "import chart_studio.plotly as plotly\n",
        "import plotly.figure_factory as ff\n",
        "from plotly import graph_objs as go\n",
        "from plotly.offline import plot\n",
        "\n",
        "from scipy.interpolate import Rbf\n",
        "\n",
        "import matplotlib.pyplot as plt\n",
        "import matplotlib as mpl\n",
        "from shapely.geometry import Point # Gera os pontos das coordenadas das estações"
      ]
    },
    {
      "cell_type": "markdown",
      "metadata": {
        "id": "6Q-EG9j50jz4"
      },
      "source": [
        "## Download de dados da ANA"
      ]
    },
    {
      "cell_type": "code",
      "execution_count": null,
      "metadata": {
        "id": "n5Cs_flQ-r92"
      },
      "outputs": [],
      "source": [
        "!mkdir -p \"/content/IDW\" # Cria pasta para o projeto"
      ]
    },
    {
      "cell_type": "markdown",
      "metadata": {
        "id": "QqHEM3bh_MVb"
      },
      "source": [
        "#### Importa poligonos das subbacias da ANA"
      ]
    },
    {
      "cell_type": "code",
      "execution_count": null,
      "metadata": {
        "id": "nxn5LANj-pNt"
      },
      "outputs": [],
      "source": [
        "!wget -P \"/content/IDW\" https://dadosabertos.ana.gov.br/datasets/10480692111f443bb5a38d9bb156851f_0.geojson?outSR={\"latestWkid\":4618,\"wkid\":4291} #EPSG4291 = SAD69\n",
        "\n",
        "df_shape_sub_brasil = gpd.read_file('/content/IDW/10480692111f443bb5a38d9bb156851f_0.geojson?outSR=latestWkid:4618')\n",
        "df_shape_sub_brasil = df_shape_sub_brasil.sort_values(by=['DNS_DNB_CD','DNS_NU_SUB']) #ordena por codigo e subbacia\n",
        "df_shape_sub_brasil.columns\n",
        "\n",
        "df_shape_sub_brasil"
      ]
    },
    {
      "cell_type": "code",
      "execution_count": null,
      "metadata": {
        "id": "_zJmjJ1cAWxe"
      },
      "outputs": [],
      "source": [
        "df_shape_sub_brasil.plot(figsize=(8,8))"
      ]
    },
    {
      "cell_type": "code",
      "execution_count": null,
      "metadata": {
        "id": "wWcNUFWjAlJC",
        "colab": {
          "base_uri": "https://localhost:8080/",
          "height": 274
        },
        "outputId": "6ec6dc7a-ccbf-4a5c-c91c-0f819d0121d3"
      },
      "outputs": [
        {
          "name": "stdout",
          "output_type": "stream",
          "text": [
            "Digite a Sub-bacia de interesse: 76\n"
          ]
        },
        {
          "output_type": "error",
          "ename": "NameError",
          "evalue": "name 'df_shape_sub_brasil' is not defined",
          "traceback": [
            "\u001b[0;31m---------------------------------------------------------------------------\u001b[0m",
            "\u001b[0;31mNameError\u001b[0m                                 Traceback (most recent call last)",
            "\u001b[0;32m<ipython-input-5-55446f9b5934>\u001b[0m in \u001b[0;36m<cell line: 3>\u001b[0;34m()\u001b[0m\n\u001b[1;32m      1\u001b[0m \u001b[0;31m# Filtro por sub-bacia\u001b[0m\u001b[0;34m\u001b[0m\u001b[0;34m\u001b[0m\u001b[0m\n\u001b[1;32m      2\u001b[0m \u001b[0msb\u001b[0m \u001b[0;34m=\u001b[0m \u001b[0mint\u001b[0m\u001b[0;34m(\u001b[0m\u001b[0minput\u001b[0m\u001b[0;34m(\u001b[0m\u001b[0;34m\"Digite a Sub-bacia de interesse: \"\u001b[0m\u001b[0;34m)\u001b[0m\u001b[0;34m)\u001b[0m\u001b[0;34m\u001b[0m\u001b[0;34m\u001b[0m\u001b[0m\n\u001b[0;32m----> 3\u001b[0;31m \u001b[0msubbacia_select\u001b[0m \u001b[0;34m=\u001b[0m \u001b[0mdf_shape_sub_brasil\u001b[0m\u001b[0;34m.\u001b[0m\u001b[0mloc\u001b[0m\u001b[0;34m[\u001b[0m\u001b[0mdf_shape_sub_brasil\u001b[0m\u001b[0;34m.\u001b[0m\u001b[0mDNS_NU_SUB\u001b[0m\u001b[0;34m==\u001b[0m \u001b[0msb\u001b[0m \u001b[0;34m]\u001b[0m\u001b[0;34m.\u001b[0m\u001b[0mto_crs\u001b[0m\u001b[0;34m(\u001b[0m\u001b[0mepsg\u001b[0m\u001b[0;34m=\u001b[0m\u001b[0;34m'4674'\u001b[0m\u001b[0;34m)\u001b[0m \u001b[0;31m#CONVERTE A GEOMETRIA PARA O SISTEMA MÉTRICO\u001b[0m\u001b[0;34m\u001b[0m\u001b[0;34m\u001b[0m\u001b[0m\n\u001b[0m\u001b[1;32m      4\u001b[0m \u001b[0;31m#subbacia_select = 76\u001b[0m\u001b[0;34m\u001b[0m\u001b[0;34m\u001b[0m\u001b[0m\n\u001b[1;32m      5\u001b[0m \u001b[0;31m# Filtro por bacia\u001b[0m\u001b[0;34m\u001b[0m\u001b[0;34m\u001b[0m\u001b[0m\n",
            "\u001b[0;31mNameError\u001b[0m: name 'df_shape_sub_brasil' is not defined"
          ]
        }
      ],
      "source": [
        "# Filtro por sub-bacia\n",
        "sb = int(input(\"Digite a Sub-bacia de interesse: \"))\n",
        "subbacia_select = df_shape_sub_brasil.loc[df_shape_sub_brasil.DNS_NU_SUB== sb ].to_crs(epsg='4674') #CONVERTE A GEOMETRIA PARA O SISTEMA MÉTRICO\n",
        "#subbacia_select = 76\n",
        "# Filtro por bacia\n",
        "#b = int(input(\"Digite a Bacia de interesse: \"))\n",
        "#bacia_select = df_shape_sub_brasil.loc[df_shape_sub_brasil.DNS_DNB_CD== b ].to_crs(epsg='4326') #CONVERTE A GEOMETRIA PARA O SISTEMA MÉTRICO\n",
        "#bacia_select"
      ]
    },
    {
      "cell_type": "code",
      "execution_count": null,
      "metadata": {
        "id": "z3H0Jh3TCDaI"
      },
      "outputs": [],
      "source": [
        "indice_selecionado = subbacia_select.index\n",
        "name_bacia = subbacia_select.DNS_NM.to_list()\n",
        "name_bacia = name_bacia[0]\n",
        "\n",
        "# Plotagem da sub-bacia selecionada\n",
        "subbacia_select.plot(figsize=(8,8), legend='true', color= 'red', alpha = .8)\n",
        "plt.xlabel('Longitude')\n",
        "plt.ylabel('Latitude')\n",
        "plt.title('Mapa da bacia %s'%name_bacia)"
      ]
    },
    {
      "cell_type": "markdown",
      "metadata": {
        "id": "YqyI0eTE02fH"
      },
      "source": [
        "### Download metadados da ANA"
      ]
    },
    {
      "cell_type": "code",
      "execution_count": null,
      "metadata": {
        "id": "ytleEMFbyexC",
        "colab": {
          "base_uri": "https://localhost:8080/"
        },
        "outputId": "f9dc411e-e341-4e4c-dec0-56c7a7a5508e"
      },
      "outputs": [
        {
          "output_type": "stream",
          "name": "stdout",
          "text": [
            "Metadados de vazão\n",
            "                   Name CodEstacao Type  DrainageArea  SubBasin              City     State   Responsible  Latitude  Longitude  StartDate    EndDate  NYD    MD  N_YWOMD  YWMD\n",
            "0                 BORJA   10064000    1      115000.0        10              PERU      PERU  SENAMHI-PERU   -4.4700   -77.5500 1986-02-02 2013-03-15   28  27.6       17  39.3\n",
            "1             SAN REGIS   10070500    1      316000.0        10              PERU      PERU  SENAMHI-PERU   -4.5100   -73.9500 1994-05-16 2005-10-17   12   0.1       10  16.7\n",
            "2               REQUENA   10074800    1        4738.0        10              PERU      PERU  SENAMHI-PERU   -5.0300   -73.8300 1984-10-25 2005-10-17   22   8.6       15  31.8\n",
            "3           TAMISHIYACU   10075000    1        8985.0        10              PERU      PERU  SENAMHI-PERU   -4.0036   -73.1611 1983-10-02 2010-09-13   28   5.0       23  17.9\n",
            "4  FRANCISCO DE ORELLAN   10080900    1           NaN        10              PERU      PERU  SENAMHI-PERU   -0.4731   -76.9825 2001-01-02 2005-10-29    5   0.1        3  40.0\n",
            "5      NUEVO ROCAFUERTE   10082800    1           NaN        10              PERU      PERU  SENAMHI-PERU   -0.9167   -75.3964 2001-01-06 2005-04-15    5   0.0        3  40.0\n",
            "6            BELLAVISTA   10086800    1        3323.0        10              PERU      PERU  SENAMHI-PERU   -3.4800   -73.0800 1989-01-02 2004-06-15   16   0.4       14  12.5\n",
            "7             TABATINGA   10100000    1      874000.0        10         TABATINGA  AMAZONAS           ANA   -4.2347   -69.9447 1995-01-01 2017-04-30   23   3.0       17  26.1\n",
            "8   PALMEIRAS DO JAVARI   10200000    1       16500.0        10  ATALAIA DO NORTE  AMAZONAS           ANA   -5.1389   -72.8136 1982-11-22 2020-01-31   39   5.2       25  35.9\n",
            "9    SANTA MARIA/FLORES   10300000    1       25200.0        10  ATALAIA DO NORTE  AMAZONAS           ANA   -4.5397   -71.4003 1980-09-24 2020-01-31   41  37.2        9  78.0\n",
            "\n",
            "Metadados de precipitação\n",
            "                      Name CodEstacao Type  SubBasin                 City State Responsible  Latitude  Longitude  StartDate    EndDate  NYD    MD  N_YWOMD   YWMD\n",
            "0              SALINÓPOLIS   00047000    2        32          SALINÓPOLIS  PARÁ       INMET   -0.6500   -47.5500 1958-01-01 1964-12-31    7  25.0        0  100.0\n",
            "1              SALINÓPOLIS   00047002    2        32          SALINÓPOLIS  PARÁ         ANA   -0.6231   -47.3536 1977-12-09 2019-08-31   43   3.5       35   18.6\n",
            "2                   CURUÇA   00047003    2        32               CURUÇA  PARÁ         ANA   -0.7375   -47.8536 1981-07-01 2019-07-31   39   2.4       29   25.6\n",
            "3                PRIMAVERA   00047004    2        32            PRIMAVERA  PARÁ         ANA   -0.9294   -47.0994 1982-02-18 2019-08-31   38   0.0       35    7.9\n",
            "4                   MARUDA   00047005    2        32            MARAPANIM  PARÁ         ANA   -0.6336   -47.6583 1989-08-21 2019-07-31   31   5.0       20   35.5\n",
            "5      SÃO JOÃO DE PIRABAS   00047006    2        32  SÃO JOÃO DE PIRABAS  PARÁ         ANA   -0.7747   -47.1775 1989-08-30 2019-08-31   31   0.4       25   19.4\n",
            "6         MAGALHÃES BARATA   00047007    2        31     MAGALHÃES BARATA  PARÁ         ANA   -0.7944   -47.5997 1995-11-17 2019-08-31   25   1.4       20   20.0\n",
            "7   SOURE (ILHA DE MARAJÓ)   00048000    2        19                SOURE  PARÁ       INMET   -0.7278   -48.5158 1961-01-01 1998-12-31   38   3.2       26   31.6\n",
            "8                   CÂMARA   00048002    2        19   CACHOEIRA DO ARARI  PARÁ       IDESP   -0.9000   -48.6333 1971-09-21 1982-12-31   12   0.0        9   25.0\n",
            "9  FAZENDA TAPERA (MARAJÓ)   00048003    2        19                SOURE  PARÁ       IDESP   -0.5500   -48.7833 1971-01-01 1982-12-31   12   9.6        8   33.3\n"
          ]
        }
      ],
      "source": [
        "\n",
        "# Importando dataframes de vazão e precipitação da ANA\n",
        "meta_flow = download.metadata_ana_flow(folder='/content/IDW',)\n",
        "meta_prec = download.metadata_ana_prec(folder='/content/IDW',)\n",
        "\n",
        "# Importando DataFrames dos metadados\n",
        "df_meta_flow = load.metadata_ana_flow(file=meta_flow)  # vazões\n",
        "df_meta_prec = load.metadata_ana_prec(file=meta_prec)  # precipitação\n",
        "\n",
        "# print das 10 primeiras linhas do dataframe\n",
        "print('Metadados de vazão')\n",
        "print(df_meta_flow.head(10).to_string())\n",
        "print()\n",
        "print('Metadados de precipitação')\n",
        "print(df_meta_prec.head(10).to_string())\n",
        "\n",
        "#df_meta_flow.info() #informações do dataframe"
      ]
    },
    {
      "cell_type": "markdown",
      "metadata": {
        "id": "s1ejhCQt-Btd"
      },
      "source": [
        "#### Plotagem das estações"
      ]
    },
    {
      "cell_type": "code",
      "execution_count": null,
      "metadata": {
        "id": "DLpONEmrPmsH"
      },
      "outputs": [],
      "source": [
        "\n",
        "# Criando uma lista de geometrias no formato de ponto\n",
        "pontos = [Point(x) for x in zip(df_meta_prec.Longitude,\n",
        "                                df_meta_prec.Latitude)]\n",
        "# Definindo o sistema de coordenadas\n",
        "crs={'proj':'latlong','ellps':'WGS84','datum':'WGS84','no_def':True}\n",
        "\n",
        "# Criando o geodataframe\n",
        "df_meta_prec_geo = gpd.GeoDataFrame(df_meta_prec, geometry=pontos,crs=4674)\n",
        "\n",
        "df_meta_prec_geo.plot(figsize=(5,5))"
      ]
    },
    {
      "cell_type": "code",
      "source": [
        "# Recorta o Dataframe pelos dados das Sub-bacias do Rio Uruguai (70 a 79)\n",
        "df_prec_=  df_meta_prec[(df_meta_prec['SubBasin'] >=74) & (df_meta_prec['SubBasin']<77)]\n",
        "df_prec_ = df_prec_.sort_values(by=['SubBasin','CodEstacao'])\n",
        "df_prec_"
      ],
      "metadata": {
        "id": "2Syn9GHmTHHQ",
        "colab": {
          "base_uri": "https://localhost:8080/",
          "height": 597
        },
        "outputId": "9968ad08-14a5-47f9-cc01-5e8f37beb028"
      },
      "execution_count": null,
      "outputs": [
        {
          "output_type": "execute_result",
          "data": {
            "text/plain": [
              "                       Name CodEstacao Type  SubBasin                 City  \\\n",
              "11148    CAMPO ERÊ - EMPASC   02653001    2        74            CAMPO ERÊ   \n",
              "11149    DIONÍSIO CERQUEIRA   02653002    2        74   DIONÍSIO CERQUEIRA   \n",
              "11151     PONTE DO SARGENTO   02653004    2        74           ROMELÂNDIA   \n",
              "11152     SÃO JOSÉ DO CEDRO   02653005    2        74    SÃO JOSÉ DO CEDRO   \n",
              "11153  SÃO MIGUEL D'OESTE I   02653006    2        74  SÃO MIGUEL DO OESTE   \n",
              "...                     ...        ...  ...       ...                  ...   \n",
              "11760            SÃO CARLOS   03055007    2        76       ROSÁRIO DO SUL   \n",
              "11762                BR-293   03055009    2        76  SANTANA DO LIVRAMEN   \n",
              "11814       TORQUATO SEVERO   03154003    2        76          DOM PEDRITO   \n",
              "11818            SERRILHADA   03154008    2        76          DOM PEDRITO   \n",
              "11820           TRÊS VENDAS   03155001    2        76          DOM PEDRITO   \n",
              "\n",
              "                   State Responsible  Latitude  Longitude  StartDate  \\\n",
              "11148     SANTA CATARINA         ANA  -26.4578   -53.0794 1969-11-22   \n",
              "11149     SANTA CATARINA         ANA  -26.2692   -53.6275 1972-03-01   \n",
              "11151     SANTA CATARINA         ANA  -26.6828   -53.2867 1969-11-22   \n",
              "11152     SANTA CATARINA         ANA  -26.4650   -53.4536 1972-03-01   \n",
              "11153     SANTA CATARINA         ANA  -26.7333   -53.5167 1965-11-19   \n",
              "...                  ...         ...       ...        ...        ...   \n",
              "11760  RIO GRANDE DO SUL         ANA  -30.2042   -55.4919 1986-04-24   \n",
              "11762  RIO GRANDE DO SUL         ANA  -30.7917   -55.1792 2000-02-13   \n",
              "11814  RIO GRANDE DO SUL         ANA  -31.0283   -54.1789 1976-09-01   \n",
              "11818  RIO GRANDE DO SUL         ANA  -31.4375   -54.7117 2000-06-12   \n",
              "11820  RIO GRANDE DO SUL         ANA  -31.2753   -55.0372 1976-08-14   \n",
              "\n",
              "         EndDate  NYD   MD  N_YWOMD  YWMD  \n",
              "11148 2019-08-31   51  5.5       31  39.2  \n",
              "11149 2019-10-31   48  5.2       30  37.5  \n",
              "11151 2019-10-31   51  1.6       45  11.8  \n",
              "11152 2019-09-30   48  2.7       30  37.5  \n",
              "11153 1975-02-28   11  3.6        6  45.5  \n",
              "...          ...  ...  ...      ...   ...  \n",
              "11760 2019-10-30   34  7.1       18  47.1  \n",
              "11762 2019-10-31   20  9.7       10  50.0  \n",
              "11814 2019-10-31   44  2.6       34  22.7  \n",
              "11818 2019-10-31   20  5.6        4  80.0  \n",
              "11820 2019-09-30   44  5.8       23  47.7  \n",
              "\n",
              "[143 rows x 15 columns]"
            ],
            "text/html": [
              "\n",
              "  <div id=\"df-df9a9ceb-46f1-48da-9de0-f1d11d944968\" class=\"colab-df-container\">\n",
              "    <div>\n",
              "<style scoped>\n",
              "    .dataframe tbody tr th:only-of-type {\n",
              "        vertical-align: middle;\n",
              "    }\n",
              "\n",
              "    .dataframe tbody tr th {\n",
              "        vertical-align: top;\n",
              "    }\n",
              "\n",
              "    .dataframe thead th {\n",
              "        text-align: right;\n",
              "    }\n",
              "</style>\n",
              "<table border=\"1\" class=\"dataframe\">\n",
              "  <thead>\n",
              "    <tr style=\"text-align: right;\">\n",
              "      <th></th>\n",
              "      <th>Name</th>\n",
              "      <th>CodEstacao</th>\n",
              "      <th>Type</th>\n",
              "      <th>SubBasin</th>\n",
              "      <th>City</th>\n",
              "      <th>State</th>\n",
              "      <th>Responsible</th>\n",
              "      <th>Latitude</th>\n",
              "      <th>Longitude</th>\n",
              "      <th>StartDate</th>\n",
              "      <th>EndDate</th>\n",
              "      <th>NYD</th>\n",
              "      <th>MD</th>\n",
              "      <th>N_YWOMD</th>\n",
              "      <th>YWMD</th>\n",
              "    </tr>\n",
              "  </thead>\n",
              "  <tbody>\n",
              "    <tr>\n",
              "      <th>11148</th>\n",
              "      <td>CAMPO ERÊ - EMPASC</td>\n",
              "      <td>02653001</td>\n",
              "      <td>2</td>\n",
              "      <td>74</td>\n",
              "      <td>CAMPO ERÊ</td>\n",
              "      <td>SANTA CATARINA</td>\n",
              "      <td>ANA</td>\n",
              "      <td>-26.4578</td>\n",
              "      <td>-53.0794</td>\n",
              "      <td>1969-11-22</td>\n",
              "      <td>2019-08-31</td>\n",
              "      <td>51</td>\n",
              "      <td>5.5</td>\n",
              "      <td>31</td>\n",
              "      <td>39.2</td>\n",
              "    </tr>\n",
              "    <tr>\n",
              "      <th>11149</th>\n",
              "      <td>DIONÍSIO CERQUEIRA</td>\n",
              "      <td>02653002</td>\n",
              "      <td>2</td>\n",
              "      <td>74</td>\n",
              "      <td>DIONÍSIO CERQUEIRA</td>\n",
              "      <td>SANTA CATARINA</td>\n",
              "      <td>ANA</td>\n",
              "      <td>-26.2692</td>\n",
              "      <td>-53.6275</td>\n",
              "      <td>1972-03-01</td>\n",
              "      <td>2019-10-31</td>\n",
              "      <td>48</td>\n",
              "      <td>5.2</td>\n",
              "      <td>30</td>\n",
              "      <td>37.5</td>\n",
              "    </tr>\n",
              "    <tr>\n",
              "      <th>11151</th>\n",
              "      <td>PONTE DO SARGENTO</td>\n",
              "      <td>02653004</td>\n",
              "      <td>2</td>\n",
              "      <td>74</td>\n",
              "      <td>ROMELÂNDIA</td>\n",
              "      <td>SANTA CATARINA</td>\n",
              "      <td>ANA</td>\n",
              "      <td>-26.6828</td>\n",
              "      <td>-53.2867</td>\n",
              "      <td>1969-11-22</td>\n",
              "      <td>2019-10-31</td>\n",
              "      <td>51</td>\n",
              "      <td>1.6</td>\n",
              "      <td>45</td>\n",
              "      <td>11.8</td>\n",
              "    </tr>\n",
              "    <tr>\n",
              "      <th>11152</th>\n",
              "      <td>SÃO JOSÉ DO CEDRO</td>\n",
              "      <td>02653005</td>\n",
              "      <td>2</td>\n",
              "      <td>74</td>\n",
              "      <td>SÃO JOSÉ DO CEDRO</td>\n",
              "      <td>SANTA CATARINA</td>\n",
              "      <td>ANA</td>\n",
              "      <td>-26.4650</td>\n",
              "      <td>-53.4536</td>\n",
              "      <td>1972-03-01</td>\n",
              "      <td>2019-09-30</td>\n",
              "      <td>48</td>\n",
              "      <td>2.7</td>\n",
              "      <td>30</td>\n",
              "      <td>37.5</td>\n",
              "    </tr>\n",
              "    <tr>\n",
              "      <th>11153</th>\n",
              "      <td>SÃO MIGUEL D'OESTE I</td>\n",
              "      <td>02653006</td>\n",
              "      <td>2</td>\n",
              "      <td>74</td>\n",
              "      <td>SÃO MIGUEL DO OESTE</td>\n",
              "      <td>SANTA CATARINA</td>\n",
              "      <td>ANA</td>\n",
              "      <td>-26.7333</td>\n",
              "      <td>-53.5167</td>\n",
              "      <td>1965-11-19</td>\n",
              "      <td>1975-02-28</td>\n",
              "      <td>11</td>\n",
              "      <td>3.6</td>\n",
              "      <td>6</td>\n",
              "      <td>45.5</td>\n",
              "    </tr>\n",
              "    <tr>\n",
              "      <th>...</th>\n",
              "      <td>...</td>\n",
              "      <td>...</td>\n",
              "      <td>...</td>\n",
              "      <td>...</td>\n",
              "      <td>...</td>\n",
              "      <td>...</td>\n",
              "      <td>...</td>\n",
              "      <td>...</td>\n",
              "      <td>...</td>\n",
              "      <td>...</td>\n",
              "      <td>...</td>\n",
              "      <td>...</td>\n",
              "      <td>...</td>\n",
              "      <td>...</td>\n",
              "      <td>...</td>\n",
              "    </tr>\n",
              "    <tr>\n",
              "      <th>11760</th>\n",
              "      <td>SÃO CARLOS</td>\n",
              "      <td>03055007</td>\n",
              "      <td>2</td>\n",
              "      <td>76</td>\n",
              "      <td>ROSÁRIO DO SUL</td>\n",
              "      <td>RIO GRANDE DO SUL</td>\n",
              "      <td>ANA</td>\n",
              "      <td>-30.2042</td>\n",
              "      <td>-55.4919</td>\n",
              "      <td>1986-04-24</td>\n",
              "      <td>2019-10-30</td>\n",
              "      <td>34</td>\n",
              "      <td>7.1</td>\n",
              "      <td>18</td>\n",
              "      <td>47.1</td>\n",
              "    </tr>\n",
              "    <tr>\n",
              "      <th>11762</th>\n",
              "      <td>BR-293</td>\n",
              "      <td>03055009</td>\n",
              "      <td>2</td>\n",
              "      <td>76</td>\n",
              "      <td>SANTANA DO LIVRAMEN</td>\n",
              "      <td>RIO GRANDE DO SUL</td>\n",
              "      <td>ANA</td>\n",
              "      <td>-30.7917</td>\n",
              "      <td>-55.1792</td>\n",
              "      <td>2000-02-13</td>\n",
              "      <td>2019-10-31</td>\n",
              "      <td>20</td>\n",
              "      <td>9.7</td>\n",
              "      <td>10</td>\n",
              "      <td>50.0</td>\n",
              "    </tr>\n",
              "    <tr>\n",
              "      <th>11814</th>\n",
              "      <td>TORQUATO SEVERO</td>\n",
              "      <td>03154003</td>\n",
              "      <td>2</td>\n",
              "      <td>76</td>\n",
              "      <td>DOM PEDRITO</td>\n",
              "      <td>RIO GRANDE DO SUL</td>\n",
              "      <td>ANA</td>\n",
              "      <td>-31.0283</td>\n",
              "      <td>-54.1789</td>\n",
              "      <td>1976-09-01</td>\n",
              "      <td>2019-10-31</td>\n",
              "      <td>44</td>\n",
              "      <td>2.6</td>\n",
              "      <td>34</td>\n",
              "      <td>22.7</td>\n",
              "    </tr>\n",
              "    <tr>\n",
              "      <th>11818</th>\n",
              "      <td>SERRILHADA</td>\n",
              "      <td>03154008</td>\n",
              "      <td>2</td>\n",
              "      <td>76</td>\n",
              "      <td>DOM PEDRITO</td>\n",
              "      <td>RIO GRANDE DO SUL</td>\n",
              "      <td>ANA</td>\n",
              "      <td>-31.4375</td>\n",
              "      <td>-54.7117</td>\n",
              "      <td>2000-06-12</td>\n",
              "      <td>2019-10-31</td>\n",
              "      <td>20</td>\n",
              "      <td>5.6</td>\n",
              "      <td>4</td>\n",
              "      <td>80.0</td>\n",
              "    </tr>\n",
              "    <tr>\n",
              "      <th>11820</th>\n",
              "      <td>TRÊS VENDAS</td>\n",
              "      <td>03155001</td>\n",
              "      <td>2</td>\n",
              "      <td>76</td>\n",
              "      <td>DOM PEDRITO</td>\n",
              "      <td>RIO GRANDE DO SUL</td>\n",
              "      <td>ANA</td>\n",
              "      <td>-31.2753</td>\n",
              "      <td>-55.0372</td>\n",
              "      <td>1976-08-14</td>\n",
              "      <td>2019-09-30</td>\n",
              "      <td>44</td>\n",
              "      <td>5.8</td>\n",
              "      <td>23</td>\n",
              "      <td>47.7</td>\n",
              "    </tr>\n",
              "  </tbody>\n",
              "</table>\n",
              "<p>143 rows × 15 columns</p>\n",
              "</div>\n",
              "    <div class=\"colab-df-buttons\">\n",
              "\n",
              "  <div class=\"colab-df-container\">\n",
              "    <button class=\"colab-df-convert\" onclick=\"convertToInteractive('df-df9a9ceb-46f1-48da-9de0-f1d11d944968')\"\n",
              "            title=\"Convert this dataframe to an interactive table.\"\n",
              "            style=\"display:none;\">\n",
              "\n",
              "  <svg xmlns=\"http://www.w3.org/2000/svg\" height=\"24px\" viewBox=\"0 -960 960 960\">\n",
              "    <path d=\"M120-120v-720h720v720H120Zm60-500h600v-160H180v160Zm220 220h160v-160H400v160Zm0 220h160v-160H400v160ZM180-400h160v-160H180v160Zm440 0h160v-160H620v160ZM180-180h160v-160H180v160Zm440 0h160v-160H620v160Z\"/>\n",
              "  </svg>\n",
              "    </button>\n",
              "\n",
              "  <style>\n",
              "    .colab-df-container {\n",
              "      display:flex;\n",
              "      gap: 12px;\n",
              "    }\n",
              "\n",
              "    .colab-df-convert {\n",
              "      background-color: #E8F0FE;\n",
              "      border: none;\n",
              "      border-radius: 50%;\n",
              "      cursor: pointer;\n",
              "      display: none;\n",
              "      fill: #1967D2;\n",
              "      height: 32px;\n",
              "      padding: 0 0 0 0;\n",
              "      width: 32px;\n",
              "    }\n",
              "\n",
              "    .colab-df-convert:hover {\n",
              "      background-color: #E2EBFA;\n",
              "      box-shadow: 0px 1px 2px rgba(60, 64, 67, 0.3), 0px 1px 3px 1px rgba(60, 64, 67, 0.15);\n",
              "      fill: #174EA6;\n",
              "    }\n",
              "\n",
              "    .colab-df-buttons div {\n",
              "      margin-bottom: 4px;\n",
              "    }\n",
              "\n",
              "    [theme=dark] .colab-df-convert {\n",
              "      background-color: #3B4455;\n",
              "      fill: #D2E3FC;\n",
              "    }\n",
              "\n",
              "    [theme=dark] .colab-df-convert:hover {\n",
              "      background-color: #434B5C;\n",
              "      box-shadow: 0px 1px 3px 1px rgba(0, 0, 0, 0.15);\n",
              "      filter: drop-shadow(0px 1px 2px rgba(0, 0, 0, 0.3));\n",
              "      fill: #FFFFFF;\n",
              "    }\n",
              "  </style>\n",
              "\n",
              "    <script>\n",
              "      const buttonEl =\n",
              "        document.querySelector('#df-df9a9ceb-46f1-48da-9de0-f1d11d944968 button.colab-df-convert');\n",
              "      buttonEl.style.display =\n",
              "        google.colab.kernel.accessAllowed ? 'block' : 'none';\n",
              "\n",
              "      async function convertToInteractive(key) {\n",
              "        const element = document.querySelector('#df-df9a9ceb-46f1-48da-9de0-f1d11d944968');\n",
              "        const dataTable =\n",
              "          await google.colab.kernel.invokeFunction('convertToInteractive',\n",
              "                                                    [key], {});\n",
              "        if (!dataTable) return;\n",
              "\n",
              "        const docLinkHtml = 'Like what you see? Visit the ' +\n",
              "          '<a target=\"_blank\" href=https://colab.research.google.com/notebooks/data_table.ipynb>data table notebook</a>'\n",
              "          + ' to learn more about interactive tables.';\n",
              "        element.innerHTML = '';\n",
              "        dataTable['output_type'] = 'display_data';\n",
              "        await google.colab.output.renderOutput(dataTable, element);\n",
              "        const docLink = document.createElement('div');\n",
              "        docLink.innerHTML = docLinkHtml;\n",
              "        element.appendChild(docLink);\n",
              "      }\n",
              "    </script>\n",
              "  </div>\n",
              "\n",
              "\n",
              "<div id=\"df-23659d25-90b0-434e-88b4-2042cd38ff62\">\n",
              "  <button class=\"colab-df-quickchart\" onclick=\"quickchart('df-23659d25-90b0-434e-88b4-2042cd38ff62')\"\n",
              "            title=\"Suggest charts\"\n",
              "            style=\"display:none;\">\n",
              "\n",
              "<svg xmlns=\"http://www.w3.org/2000/svg\" height=\"24px\"viewBox=\"0 0 24 24\"\n",
              "     width=\"24px\">\n",
              "    <g>\n",
              "        <path d=\"M19 3H5c-1.1 0-2 .9-2 2v14c0 1.1.9 2 2 2h14c1.1 0 2-.9 2-2V5c0-1.1-.9-2-2-2zM9 17H7v-7h2v7zm4 0h-2V7h2v10zm4 0h-2v-4h2v4z\"/>\n",
              "    </g>\n",
              "</svg>\n",
              "  </button>\n",
              "\n",
              "<style>\n",
              "  .colab-df-quickchart {\n",
              "      --bg-color: #E8F0FE;\n",
              "      --fill-color: #1967D2;\n",
              "      --hover-bg-color: #E2EBFA;\n",
              "      --hover-fill-color: #174EA6;\n",
              "      --disabled-fill-color: #AAA;\n",
              "      --disabled-bg-color: #DDD;\n",
              "  }\n",
              "\n",
              "  [theme=dark] .colab-df-quickchart {\n",
              "      --bg-color: #3B4455;\n",
              "      --fill-color: #D2E3FC;\n",
              "      --hover-bg-color: #434B5C;\n",
              "      --hover-fill-color: #FFFFFF;\n",
              "      --disabled-bg-color: #3B4455;\n",
              "      --disabled-fill-color: #666;\n",
              "  }\n",
              "\n",
              "  .colab-df-quickchart {\n",
              "    background-color: var(--bg-color);\n",
              "    border: none;\n",
              "    border-radius: 50%;\n",
              "    cursor: pointer;\n",
              "    display: none;\n",
              "    fill: var(--fill-color);\n",
              "    height: 32px;\n",
              "    padding: 0;\n",
              "    width: 32px;\n",
              "  }\n",
              "\n",
              "  .colab-df-quickchart:hover {\n",
              "    background-color: var(--hover-bg-color);\n",
              "    box-shadow: 0 1px 2px rgba(60, 64, 67, 0.3), 0 1px 3px 1px rgba(60, 64, 67, 0.15);\n",
              "    fill: var(--button-hover-fill-color);\n",
              "  }\n",
              "\n",
              "  .colab-df-quickchart-complete:disabled,\n",
              "  .colab-df-quickchart-complete:disabled:hover {\n",
              "    background-color: var(--disabled-bg-color);\n",
              "    fill: var(--disabled-fill-color);\n",
              "    box-shadow: none;\n",
              "  }\n",
              "\n",
              "  .colab-df-spinner {\n",
              "    border: 2px solid var(--fill-color);\n",
              "    border-color: transparent;\n",
              "    border-bottom-color: var(--fill-color);\n",
              "    animation:\n",
              "      spin 1s steps(1) infinite;\n",
              "  }\n",
              "\n",
              "  @keyframes spin {\n",
              "    0% {\n",
              "      border-color: transparent;\n",
              "      border-bottom-color: var(--fill-color);\n",
              "      border-left-color: var(--fill-color);\n",
              "    }\n",
              "    20% {\n",
              "      border-color: transparent;\n",
              "      border-left-color: var(--fill-color);\n",
              "      border-top-color: var(--fill-color);\n",
              "    }\n",
              "    30% {\n",
              "      border-color: transparent;\n",
              "      border-left-color: var(--fill-color);\n",
              "      border-top-color: var(--fill-color);\n",
              "      border-right-color: var(--fill-color);\n",
              "    }\n",
              "    40% {\n",
              "      border-color: transparent;\n",
              "      border-right-color: var(--fill-color);\n",
              "      border-top-color: var(--fill-color);\n",
              "    }\n",
              "    60% {\n",
              "      border-color: transparent;\n",
              "      border-right-color: var(--fill-color);\n",
              "    }\n",
              "    80% {\n",
              "      border-color: transparent;\n",
              "      border-right-color: var(--fill-color);\n",
              "      border-bottom-color: var(--fill-color);\n",
              "    }\n",
              "    90% {\n",
              "      border-color: transparent;\n",
              "      border-bottom-color: var(--fill-color);\n",
              "    }\n",
              "  }\n",
              "</style>\n",
              "\n",
              "  <script>\n",
              "    async function quickchart(key) {\n",
              "      const quickchartButtonEl =\n",
              "        document.querySelector('#' + key + ' button');\n",
              "      quickchartButtonEl.disabled = true;  // To prevent multiple clicks.\n",
              "      quickchartButtonEl.classList.add('colab-df-spinner');\n",
              "      try {\n",
              "        const charts = await google.colab.kernel.invokeFunction(\n",
              "            'suggestCharts', [key], {});\n",
              "      } catch (error) {\n",
              "        console.error('Error during call to suggestCharts:', error);\n",
              "      }\n",
              "      quickchartButtonEl.classList.remove('colab-df-spinner');\n",
              "      quickchartButtonEl.classList.add('colab-df-quickchart-complete');\n",
              "    }\n",
              "    (() => {\n",
              "      let quickchartButtonEl =\n",
              "        document.querySelector('#df-23659d25-90b0-434e-88b4-2042cd38ff62 button');\n",
              "      quickchartButtonEl.style.display =\n",
              "        google.colab.kernel.accessAllowed ? 'block' : 'none';\n",
              "    })();\n",
              "  </script>\n",
              "</div>\n",
              "\n",
              "  <div id=\"id_380dd387-86a0-4a24-bf4c-d66039ec18a0\">\n",
              "    <style>\n",
              "      .colab-df-generate {\n",
              "        background-color: #E8F0FE;\n",
              "        border: none;\n",
              "        border-radius: 50%;\n",
              "        cursor: pointer;\n",
              "        display: none;\n",
              "        fill: #1967D2;\n",
              "        height: 32px;\n",
              "        padding: 0 0 0 0;\n",
              "        width: 32px;\n",
              "      }\n",
              "\n",
              "      .colab-df-generate:hover {\n",
              "        background-color: #E2EBFA;\n",
              "        box-shadow: 0px 1px 2px rgba(60, 64, 67, 0.3), 0px 1px 3px 1px rgba(60, 64, 67, 0.15);\n",
              "        fill: #174EA6;\n",
              "      }\n",
              "\n",
              "      [theme=dark] .colab-df-generate {\n",
              "        background-color: #3B4455;\n",
              "        fill: #D2E3FC;\n",
              "      }\n",
              "\n",
              "      [theme=dark] .colab-df-generate:hover {\n",
              "        background-color: #434B5C;\n",
              "        box-shadow: 0px 1px 3px 1px rgba(0, 0, 0, 0.15);\n",
              "        filter: drop-shadow(0px 1px 2px rgba(0, 0, 0, 0.3));\n",
              "        fill: #FFFFFF;\n",
              "      }\n",
              "    </style>\n",
              "    <button class=\"colab-df-generate\" onclick=\"generateWithVariable('df_prec_')\"\n",
              "            title=\"Generate code using this dataframe.\"\n",
              "            style=\"display:none;\">\n",
              "\n",
              "  <svg xmlns=\"http://www.w3.org/2000/svg\" height=\"24px\"viewBox=\"0 0 24 24\"\n",
              "       width=\"24px\">\n",
              "    <path d=\"M7,19H8.4L18.45,9,17,7.55,7,17.6ZM5,21V16.75L18.45,3.32a2,2,0,0,1,2.83,0l1.4,1.43a1.91,1.91,0,0,1,.58,1.4,1.91,1.91,0,0,1-.58,1.4L9.25,21ZM18.45,9,17,7.55Zm-12,3A5.31,5.31,0,0,0,4.9,8.1,5.31,5.31,0,0,0,1,6.5,5.31,5.31,0,0,0,4.9,4.9,5.31,5.31,0,0,0,6.5,1,5.31,5.31,0,0,0,8.1,4.9,5.31,5.31,0,0,0,12,6.5,5.46,5.46,0,0,0,6.5,12Z\"/>\n",
              "  </svg>\n",
              "    </button>\n",
              "    <script>\n",
              "      (() => {\n",
              "      const buttonEl =\n",
              "        document.querySelector('#id_380dd387-86a0-4a24-bf4c-d66039ec18a0 button.colab-df-generate');\n",
              "      buttonEl.style.display =\n",
              "        google.colab.kernel.accessAllowed ? 'block' : 'none';\n",
              "\n",
              "      buttonEl.onclick = () => {\n",
              "        google.colab.notebook.generateWithVariable('df_prec_');\n",
              "      }\n",
              "      })();\n",
              "    </script>\n",
              "  </div>\n",
              "\n",
              "    </div>\n",
              "  </div>\n"
            ]
          },
          "metadata": {},
          "execution_count": 7
        }
      ]
    },
    {
      "cell_type": "code",
      "source": [
        "estacoes_gantt_list =  df_prec_['CodEstacao'].tolist() # gera uma lista de string com as estacoes recortadas"
      ],
      "metadata": {
        "id": "ewXvHGE9TM0N"
      },
      "execution_count": null,
      "outputs": []
    },
    {
      "cell_type": "code",
      "source": [
        "# Estas 28 estações foram as que encontrei boas de dados no Ibicui\n",
        "stations_code_list = ['02850019','02854012','02855004','02953008','02953030','02954001','02954004','02954005','02954031','02955006','02955007','02955013',\n",
        "                      '02955017','02956006','03053004','03053023','03053024','03053028','03054002','03054016','03054019','03054020','03054021','03055003',\n",
        "                      '03056007','03154003','03154008','03155001']\n",
        "print(stations_code_list)\n",
        "print(len(stations_code_list))"
      ],
      "metadata": {
        "id": "MzYXjTgzTQzF",
        "colab": {
          "base_uri": "https://localhost:8080/"
        },
        "outputId": "74a1aa50-70e3-488d-8404-626c07102b28"
      },
      "execution_count": null,
      "outputs": [
        {
          "output_type": "stream",
          "name": "stdout",
          "text": [
            "['02850019', '02854012', '02855004', '02953008', '02953030', '02954001', '02954004', '02954005', '02954031', '02955006', '02955007', '02955013', '02955017', '02956006', '03053004', '03053023', '03053024', '03053028', '03054002', '03054016', '03054019', '03054020', '03054021', '03055003', '03056007', '03154003', '03154008', '03155001']\n",
            "28\n"
          ]
        }
      ]
    },
    {
      "cell_type": "code",
      "source": [
        "# Alterar variavel caso não tenha selecionado as estações \"boas\"\n",
        "data_stations = hydrobr.get_data.ANA.prec_data(stations_code_list, only_consisted=False)"
      ],
      "metadata": {
        "id": "EX3faOJhTTXI",
        "colab": {
          "base_uri": "https://localhost:8080/",
          "height": 372
        },
        "outputId": "1bc39536-a6d3-44f3-eefc-f06cfadf59db"
      },
      "execution_count": null,
      "outputs": [
        {
          "output_type": "stream",
          "name": "stderr",
          "text": [
            "  4%|▎         | 1/28 [00:03<01:35,  3.53s/it]\n"
          ]
        },
        {
          "output_type": "error",
          "ename": "KeyboardInterrupt",
          "evalue": "",
          "traceback": [
            "\u001b[0;31m---------------------------------------------------------------------------\u001b[0m",
            "\u001b[0;31mKeyboardInterrupt\u001b[0m                         Traceback (most recent call last)",
            "\u001b[0;32m<ipython-input-12-c25831f6ed83>\u001b[0m in \u001b[0;36m<cell line: 2>\u001b[0;34m()\u001b[0m\n\u001b[1;32m      1\u001b[0m \u001b[0;31m# Alterar variavel caso não tenha selecionado as estações \"boas\"\u001b[0m\u001b[0;34m\u001b[0m\u001b[0;34m\u001b[0m\u001b[0m\n\u001b[0;32m----> 2\u001b[0;31m \u001b[0mdata_stations\u001b[0m \u001b[0;34m=\u001b[0m \u001b[0mhydrobr\u001b[0m\u001b[0;34m.\u001b[0m\u001b[0mget_data\u001b[0m\u001b[0;34m.\u001b[0m\u001b[0mANA\u001b[0m\u001b[0;34m.\u001b[0m\u001b[0mprec_data\u001b[0m\u001b[0;34m(\u001b[0m\u001b[0mstations_code_list\u001b[0m\u001b[0;34m,\u001b[0m \u001b[0monly_consisted\u001b[0m\u001b[0;34m=\u001b[0m\u001b[0;32mFalse\u001b[0m\u001b[0;34m)\u001b[0m\u001b[0;34m\u001b[0m\u001b[0;34m\u001b[0m\u001b[0m\n\u001b[0m",
            "\u001b[0;32m/usr/local/lib/python3.10/dist-packages/hydrobr/get_data.py\u001b[0m in \u001b[0;36mprec_data\u001b[0;34m(list_station, only_consisted)\u001b[0m\n\u001b[1;32m    213\u001b[0m         \"\"\"\n\u001b[1;32m    214\u001b[0m \u001b[0;34m\u001b[0m\u001b[0m\n\u001b[0;32m--> 215\u001b[0;31m         \u001b[0mdata_stations\u001b[0m \u001b[0;34m=\u001b[0m \u001b[0mANA\u001b[0m\u001b[0;34m.\u001b[0m\u001b[0m__data_ana\u001b[0m\u001b[0;34m(\u001b[0m\u001b[0mlist_station\u001b[0m\u001b[0;34m,\u001b[0m \u001b[0;34m'2'\u001b[0m\u001b[0;34m,\u001b[0m \u001b[0monly_consisted\u001b[0m\u001b[0;34m=\u001b[0m\u001b[0monly_consisted\u001b[0m\u001b[0;34m)\u001b[0m\u001b[0;34m\u001b[0m\u001b[0;34m\u001b[0m\u001b[0m\n\u001b[0m\u001b[1;32m    216\u001b[0m \u001b[0;34m\u001b[0m\u001b[0m\n\u001b[1;32m    217\u001b[0m         \u001b[0;32mreturn\u001b[0m \u001b[0mdata_stations\u001b[0m\u001b[0;34m\u001b[0m\u001b[0;34m\u001b[0m\u001b[0m\n",
            "\u001b[0;32m/usr/local/lib/python3.10/dist-packages/hydrobr/get_data.py\u001b[0m in \u001b[0;36m__data_ana\u001b[0;34m(list_station, data_type, only_consisted)\u001b[0m\n\u001b[1;32m    139\u001b[0m             \u001b[0mparams\u001b[0m\u001b[0;34m[\u001b[0m\u001b[0;34m'codEstacao'\u001b[0m\u001b[0;34m]\u001b[0m \u001b[0;34m=\u001b[0m \u001b[0mstr\u001b[0m\u001b[0;34m(\u001b[0m\u001b[0mstation\u001b[0m\u001b[0;34m)\u001b[0m\u001b[0;34m\u001b[0m\u001b[0;34m\u001b[0m\u001b[0m\n\u001b[1;32m    140\u001b[0m             \u001b[0;32mtry\u001b[0m\u001b[0;34m:\u001b[0m\u001b[0;34m\u001b[0m\u001b[0;34m\u001b[0m\u001b[0m\n\u001b[0;32m--> 141\u001b[0;31m                 response = requests.get('http://telemetriaws1.ana.gov.br/ServiceANA.asmx/HidroSerieHistorica', params,\n\u001b[0m\u001b[1;32m    142\u001b[0m                                         timeout=120.0)\n\u001b[1;32m    143\u001b[0m             except (\n",
            "\u001b[0;32m/usr/local/lib/python3.10/dist-packages/requests/api.py\u001b[0m in \u001b[0;36mget\u001b[0;34m(url, params, **kwargs)\u001b[0m\n\u001b[1;32m     71\u001b[0m     \"\"\"\n\u001b[1;32m     72\u001b[0m \u001b[0;34m\u001b[0m\u001b[0m\n\u001b[0;32m---> 73\u001b[0;31m     \u001b[0;32mreturn\u001b[0m \u001b[0mrequest\u001b[0m\u001b[0;34m(\u001b[0m\u001b[0;34m\"get\"\u001b[0m\u001b[0;34m,\u001b[0m \u001b[0murl\u001b[0m\u001b[0;34m,\u001b[0m \u001b[0mparams\u001b[0m\u001b[0;34m=\u001b[0m\u001b[0mparams\u001b[0m\u001b[0;34m,\u001b[0m \u001b[0;34m**\u001b[0m\u001b[0mkwargs\u001b[0m\u001b[0;34m)\u001b[0m\u001b[0;34m\u001b[0m\u001b[0;34m\u001b[0m\u001b[0m\n\u001b[0m\u001b[1;32m     74\u001b[0m \u001b[0;34m\u001b[0m\u001b[0m\n\u001b[1;32m     75\u001b[0m \u001b[0;34m\u001b[0m\u001b[0m\n",
            "\u001b[0;32m/usr/local/lib/python3.10/dist-packages/requests/api.py\u001b[0m in \u001b[0;36mrequest\u001b[0;34m(method, url, **kwargs)\u001b[0m\n\u001b[1;32m     57\u001b[0m     \u001b[0;31m# cases, and look like a memory leak in others.\u001b[0m\u001b[0;34m\u001b[0m\u001b[0;34m\u001b[0m\u001b[0m\n\u001b[1;32m     58\u001b[0m     \u001b[0;32mwith\u001b[0m \u001b[0msessions\u001b[0m\u001b[0;34m.\u001b[0m\u001b[0mSession\u001b[0m\u001b[0;34m(\u001b[0m\u001b[0;34m)\u001b[0m \u001b[0;32mas\u001b[0m \u001b[0msession\u001b[0m\u001b[0;34m:\u001b[0m\u001b[0;34m\u001b[0m\u001b[0;34m\u001b[0m\u001b[0m\n\u001b[0;32m---> 59\u001b[0;31m         \u001b[0;32mreturn\u001b[0m \u001b[0msession\u001b[0m\u001b[0;34m.\u001b[0m\u001b[0mrequest\u001b[0m\u001b[0;34m(\u001b[0m\u001b[0mmethod\u001b[0m\u001b[0;34m=\u001b[0m\u001b[0mmethod\u001b[0m\u001b[0;34m,\u001b[0m \u001b[0murl\u001b[0m\u001b[0;34m=\u001b[0m\u001b[0murl\u001b[0m\u001b[0;34m,\u001b[0m \u001b[0;34m**\u001b[0m\u001b[0mkwargs\u001b[0m\u001b[0;34m)\u001b[0m\u001b[0;34m\u001b[0m\u001b[0;34m\u001b[0m\u001b[0m\n\u001b[0m\u001b[1;32m     60\u001b[0m \u001b[0;34m\u001b[0m\u001b[0m\n\u001b[1;32m     61\u001b[0m \u001b[0;34m\u001b[0m\u001b[0m\n",
            "\u001b[0;32m/usr/local/lib/python3.10/dist-packages/requests/sessions.py\u001b[0m in \u001b[0;36mrequest\u001b[0;34m(self, method, url, params, data, headers, cookies, files, auth, timeout, allow_redirects, proxies, hooks, stream, verify, cert, json)\u001b[0m\n\u001b[1;32m    587\u001b[0m         }\n\u001b[1;32m    588\u001b[0m         \u001b[0msend_kwargs\u001b[0m\u001b[0;34m.\u001b[0m\u001b[0mupdate\u001b[0m\u001b[0;34m(\u001b[0m\u001b[0msettings\u001b[0m\u001b[0;34m)\u001b[0m\u001b[0;34m\u001b[0m\u001b[0;34m\u001b[0m\u001b[0m\n\u001b[0;32m--> 589\u001b[0;31m         \u001b[0mresp\u001b[0m \u001b[0;34m=\u001b[0m \u001b[0mself\u001b[0m\u001b[0;34m.\u001b[0m\u001b[0msend\u001b[0m\u001b[0;34m(\u001b[0m\u001b[0mprep\u001b[0m\u001b[0;34m,\u001b[0m \u001b[0;34m**\u001b[0m\u001b[0msend_kwargs\u001b[0m\u001b[0;34m)\u001b[0m\u001b[0;34m\u001b[0m\u001b[0;34m\u001b[0m\u001b[0m\n\u001b[0m\u001b[1;32m    590\u001b[0m \u001b[0;34m\u001b[0m\u001b[0m\n\u001b[1;32m    591\u001b[0m         \u001b[0;32mreturn\u001b[0m \u001b[0mresp\u001b[0m\u001b[0;34m\u001b[0m\u001b[0;34m\u001b[0m\u001b[0m\n",
            "\u001b[0;32m/usr/local/lib/python3.10/dist-packages/requests/sessions.py\u001b[0m in \u001b[0;36msend\u001b[0;34m(self, request, **kwargs)\u001b[0m\n\u001b[1;32m    745\u001b[0m \u001b[0;34m\u001b[0m\u001b[0m\n\u001b[1;32m    746\u001b[0m         \u001b[0;32mif\u001b[0m \u001b[0;32mnot\u001b[0m \u001b[0mstream\u001b[0m\u001b[0;34m:\u001b[0m\u001b[0;34m\u001b[0m\u001b[0;34m\u001b[0m\u001b[0m\n\u001b[0;32m--> 747\u001b[0;31m             \u001b[0mr\u001b[0m\u001b[0;34m.\u001b[0m\u001b[0mcontent\u001b[0m\u001b[0;34m\u001b[0m\u001b[0;34m\u001b[0m\u001b[0m\n\u001b[0m\u001b[1;32m    748\u001b[0m \u001b[0;34m\u001b[0m\u001b[0m\n\u001b[1;32m    749\u001b[0m         \u001b[0;32mreturn\u001b[0m \u001b[0mr\u001b[0m\u001b[0;34m\u001b[0m\u001b[0;34m\u001b[0m\u001b[0m\n",
            "\u001b[0;32m/usr/local/lib/python3.10/dist-packages/requests/models.py\u001b[0m in \u001b[0;36mcontent\u001b[0;34m(self)\u001b[0m\n\u001b[1;32m    897\u001b[0m                 \u001b[0mself\u001b[0m\u001b[0;34m.\u001b[0m\u001b[0m_content\u001b[0m \u001b[0;34m=\u001b[0m \u001b[0;32mNone\u001b[0m\u001b[0;34m\u001b[0m\u001b[0;34m\u001b[0m\u001b[0m\n\u001b[1;32m    898\u001b[0m             \u001b[0;32melse\u001b[0m\u001b[0;34m:\u001b[0m\u001b[0;34m\u001b[0m\u001b[0;34m\u001b[0m\u001b[0m\n\u001b[0;32m--> 899\u001b[0;31m                 \u001b[0mself\u001b[0m\u001b[0;34m.\u001b[0m\u001b[0m_content\u001b[0m \u001b[0;34m=\u001b[0m \u001b[0;34mb\"\"\u001b[0m\u001b[0;34m.\u001b[0m\u001b[0mjoin\u001b[0m\u001b[0;34m(\u001b[0m\u001b[0mself\u001b[0m\u001b[0;34m.\u001b[0m\u001b[0miter_content\u001b[0m\u001b[0;34m(\u001b[0m\u001b[0mCONTENT_CHUNK_SIZE\u001b[0m\u001b[0;34m)\u001b[0m\u001b[0;34m)\u001b[0m \u001b[0;32mor\u001b[0m \u001b[0;34mb\"\"\u001b[0m\u001b[0;34m\u001b[0m\u001b[0;34m\u001b[0m\u001b[0m\n\u001b[0m\u001b[1;32m    900\u001b[0m \u001b[0;34m\u001b[0m\u001b[0m\n\u001b[1;32m    901\u001b[0m         \u001b[0mself\u001b[0m\u001b[0;34m.\u001b[0m\u001b[0m_content_consumed\u001b[0m \u001b[0;34m=\u001b[0m \u001b[0;32mTrue\u001b[0m\u001b[0;34m\u001b[0m\u001b[0;34m\u001b[0m\u001b[0m\n",
            "\u001b[0;32m/usr/local/lib/python3.10/dist-packages/requests/models.py\u001b[0m in \u001b[0;36mgenerate\u001b[0;34m()\u001b[0m\n\u001b[1;32m    814\u001b[0m             \u001b[0;32mif\u001b[0m \u001b[0mhasattr\u001b[0m\u001b[0;34m(\u001b[0m\u001b[0mself\u001b[0m\u001b[0;34m.\u001b[0m\u001b[0mraw\u001b[0m\u001b[0;34m,\u001b[0m \u001b[0;34m\"stream\"\u001b[0m\u001b[0;34m)\u001b[0m\u001b[0;34m:\u001b[0m\u001b[0;34m\u001b[0m\u001b[0;34m\u001b[0m\u001b[0m\n\u001b[1;32m    815\u001b[0m                 \u001b[0;32mtry\u001b[0m\u001b[0;34m:\u001b[0m\u001b[0;34m\u001b[0m\u001b[0;34m\u001b[0m\u001b[0m\n\u001b[0;32m--> 816\u001b[0;31m                     \u001b[0;32myield\u001b[0m \u001b[0;32mfrom\u001b[0m \u001b[0mself\u001b[0m\u001b[0;34m.\u001b[0m\u001b[0mraw\u001b[0m\u001b[0;34m.\u001b[0m\u001b[0mstream\u001b[0m\u001b[0;34m(\u001b[0m\u001b[0mchunk_size\u001b[0m\u001b[0;34m,\u001b[0m \u001b[0mdecode_content\u001b[0m\u001b[0;34m=\u001b[0m\u001b[0;32mTrue\u001b[0m\u001b[0;34m)\u001b[0m\u001b[0;34m\u001b[0m\u001b[0;34m\u001b[0m\u001b[0m\n\u001b[0m\u001b[1;32m    817\u001b[0m                 \u001b[0;32mexcept\u001b[0m \u001b[0mProtocolError\u001b[0m \u001b[0;32mas\u001b[0m \u001b[0me\u001b[0m\u001b[0;34m:\u001b[0m\u001b[0;34m\u001b[0m\u001b[0;34m\u001b[0m\u001b[0m\n\u001b[1;32m    818\u001b[0m                     \u001b[0;32mraise\u001b[0m \u001b[0mChunkedEncodingError\u001b[0m\u001b[0;34m(\u001b[0m\u001b[0me\u001b[0m\u001b[0;34m)\u001b[0m\u001b[0;34m\u001b[0m\u001b[0;34m\u001b[0m\u001b[0m\n",
            "\u001b[0;32m/usr/local/lib/python3.10/dist-packages/urllib3/response.py\u001b[0m in \u001b[0;36mstream\u001b[0;34m(self, amt, decode_content)\u001b[0m\n\u001b[1;32m    931\u001b[0m         \"\"\"\n\u001b[1;32m    932\u001b[0m         \u001b[0;32mif\u001b[0m \u001b[0mself\u001b[0m\u001b[0;34m.\u001b[0m\u001b[0mchunked\u001b[0m \u001b[0;32mand\u001b[0m \u001b[0mself\u001b[0m\u001b[0;34m.\u001b[0m\u001b[0msupports_chunked_reads\u001b[0m\u001b[0;34m(\u001b[0m\u001b[0;34m)\u001b[0m\u001b[0;34m:\u001b[0m\u001b[0;34m\u001b[0m\u001b[0;34m\u001b[0m\u001b[0m\n\u001b[0;32m--> 933\u001b[0;31m             \u001b[0;32myield\u001b[0m \u001b[0;32mfrom\u001b[0m \u001b[0mself\u001b[0m\u001b[0;34m.\u001b[0m\u001b[0mread_chunked\u001b[0m\u001b[0;34m(\u001b[0m\u001b[0mamt\u001b[0m\u001b[0;34m,\u001b[0m \u001b[0mdecode_content\u001b[0m\u001b[0;34m=\u001b[0m\u001b[0mdecode_content\u001b[0m\u001b[0;34m)\u001b[0m\u001b[0;34m\u001b[0m\u001b[0;34m\u001b[0m\u001b[0m\n\u001b[0m\u001b[1;32m    934\u001b[0m         \u001b[0;32melse\u001b[0m\u001b[0;34m:\u001b[0m\u001b[0;34m\u001b[0m\u001b[0;34m\u001b[0m\u001b[0m\n\u001b[1;32m    935\u001b[0m             \u001b[0;32mwhile\u001b[0m \u001b[0;32mnot\u001b[0m \u001b[0mis_fp_closed\u001b[0m\u001b[0;34m(\u001b[0m\u001b[0mself\u001b[0m\u001b[0;34m.\u001b[0m\u001b[0m_fp\u001b[0m\u001b[0;34m)\u001b[0m \u001b[0;32mor\u001b[0m \u001b[0mlen\u001b[0m\u001b[0;34m(\u001b[0m\u001b[0mself\u001b[0m\u001b[0;34m.\u001b[0m\u001b[0m_decoded_buffer\u001b[0m\u001b[0;34m)\u001b[0m \u001b[0;34m>\u001b[0m \u001b[0;36m0\u001b[0m\u001b[0;34m:\u001b[0m\u001b[0;34m\u001b[0m\u001b[0;34m\u001b[0m\u001b[0m\n",
            "\u001b[0;32m/usr/local/lib/python3.10/dist-packages/urllib3/response.py\u001b[0m in \u001b[0;36mread_chunked\u001b[0;34m(self, amt, decode_content)\u001b[0m\n\u001b[1;32m   1074\u001b[0m                 \u001b[0;32mif\u001b[0m \u001b[0mself\u001b[0m\u001b[0;34m.\u001b[0m\u001b[0mchunk_left\u001b[0m \u001b[0;34m==\u001b[0m \u001b[0;36m0\u001b[0m\u001b[0;34m:\u001b[0m\u001b[0;34m\u001b[0m\u001b[0;34m\u001b[0m\u001b[0m\n\u001b[1;32m   1075\u001b[0m                     \u001b[0;32mbreak\u001b[0m\u001b[0;34m\u001b[0m\u001b[0;34m\u001b[0m\u001b[0m\n\u001b[0;32m-> 1076\u001b[0;31m                 \u001b[0mchunk\u001b[0m \u001b[0;34m=\u001b[0m \u001b[0mself\u001b[0m\u001b[0;34m.\u001b[0m\u001b[0m_handle_chunk\u001b[0m\u001b[0;34m(\u001b[0m\u001b[0mamt\u001b[0m\u001b[0;34m)\u001b[0m\u001b[0;34m\u001b[0m\u001b[0;34m\u001b[0m\u001b[0m\n\u001b[0m\u001b[1;32m   1077\u001b[0m                 decoded = self._decode(\n\u001b[1;32m   1078\u001b[0m                     \u001b[0mchunk\u001b[0m\u001b[0;34m,\u001b[0m \u001b[0mdecode_content\u001b[0m\u001b[0;34m=\u001b[0m\u001b[0mdecode_content\u001b[0m\u001b[0;34m,\u001b[0m \u001b[0mflush_decoder\u001b[0m\u001b[0;34m=\u001b[0m\u001b[0;32mFalse\u001b[0m\u001b[0;34m\u001b[0m\u001b[0;34m\u001b[0m\u001b[0m\n",
            "\u001b[0;32m/usr/local/lib/python3.10/dist-packages/urllib3/response.py\u001b[0m in \u001b[0;36m_handle_chunk\u001b[0;34m(self, amt)\u001b[0m\n\u001b[1;32m   1025\u001b[0m             \u001b[0mreturned_chunk\u001b[0m \u001b[0;34m=\u001b[0m \u001b[0mvalue\u001b[0m\u001b[0;34m\u001b[0m\u001b[0;34m\u001b[0m\u001b[0m\n\u001b[1;32m   1026\u001b[0m         \u001b[0;32melse\u001b[0m\u001b[0;34m:\u001b[0m  \u001b[0;31m# amt > self.chunk_left\u001b[0m\u001b[0;34m\u001b[0m\u001b[0;34m\u001b[0m\u001b[0m\n\u001b[0;32m-> 1027\u001b[0;31m             \u001b[0mreturned_chunk\u001b[0m \u001b[0;34m=\u001b[0m \u001b[0mself\u001b[0m\u001b[0;34m.\u001b[0m\u001b[0m_fp\u001b[0m\u001b[0;34m.\u001b[0m\u001b[0m_safe_read\u001b[0m\u001b[0;34m(\u001b[0m\u001b[0mself\u001b[0m\u001b[0;34m.\u001b[0m\u001b[0mchunk_left\u001b[0m\u001b[0;34m)\u001b[0m  \u001b[0;31m# type: ignore[union-attr]\u001b[0m\u001b[0;34m\u001b[0m\u001b[0;34m\u001b[0m\u001b[0m\n\u001b[0m\u001b[1;32m   1028\u001b[0m             \u001b[0mself\u001b[0m\u001b[0;34m.\u001b[0m\u001b[0m_fp\u001b[0m\u001b[0;34m.\u001b[0m\u001b[0m_safe_read\u001b[0m\u001b[0;34m(\u001b[0m\u001b[0;36m2\u001b[0m\u001b[0;34m)\u001b[0m  \u001b[0;31m# type: ignore[union-attr] # Toss the CRLF at the end of the chunk.\u001b[0m\u001b[0;34m\u001b[0m\u001b[0;34m\u001b[0m\u001b[0m\n\u001b[1;32m   1029\u001b[0m             \u001b[0mself\u001b[0m\u001b[0;34m.\u001b[0m\u001b[0mchunk_left\u001b[0m \u001b[0;34m=\u001b[0m \u001b[0;32mNone\u001b[0m\u001b[0;34m\u001b[0m\u001b[0;34m\u001b[0m\u001b[0m\n",
            "\u001b[0;32m/usr/lib/python3.10/http/client.py\u001b[0m in \u001b[0;36m_safe_read\u001b[0;34m(self, amt)\u001b[0m\n\u001b[1;32m    629\u001b[0m         \u001b[0mIncompleteRead\u001b[0m \u001b[0mexception\u001b[0m \u001b[0mcan\u001b[0m \u001b[0mbe\u001b[0m \u001b[0mused\u001b[0m \u001b[0mto\u001b[0m \u001b[0mdetect\u001b[0m \u001b[0mthe\u001b[0m \u001b[0mproblem\u001b[0m\u001b[0;34m.\u001b[0m\u001b[0;34m\u001b[0m\u001b[0;34m\u001b[0m\u001b[0m\n\u001b[1;32m    630\u001b[0m         \"\"\"\n\u001b[0;32m--> 631\u001b[0;31m         \u001b[0mdata\u001b[0m \u001b[0;34m=\u001b[0m \u001b[0mself\u001b[0m\u001b[0;34m.\u001b[0m\u001b[0mfp\u001b[0m\u001b[0;34m.\u001b[0m\u001b[0mread\u001b[0m\u001b[0;34m(\u001b[0m\u001b[0mamt\u001b[0m\u001b[0;34m)\u001b[0m\u001b[0;34m\u001b[0m\u001b[0;34m\u001b[0m\u001b[0m\n\u001b[0m\u001b[1;32m    632\u001b[0m         \u001b[0;32mif\u001b[0m \u001b[0mlen\u001b[0m\u001b[0;34m(\u001b[0m\u001b[0mdata\u001b[0m\u001b[0;34m)\u001b[0m \u001b[0;34m<\u001b[0m \u001b[0mamt\u001b[0m\u001b[0;34m:\u001b[0m\u001b[0;34m\u001b[0m\u001b[0;34m\u001b[0m\u001b[0m\n\u001b[1;32m    633\u001b[0m             \u001b[0;32mraise\u001b[0m \u001b[0mIncompleteRead\u001b[0m\u001b[0;34m(\u001b[0m\u001b[0mdata\u001b[0m\u001b[0;34m,\u001b[0m \u001b[0mamt\u001b[0m\u001b[0;34m-\u001b[0m\u001b[0mlen\u001b[0m\u001b[0;34m(\u001b[0m\u001b[0mdata\u001b[0m\u001b[0;34m)\u001b[0m\u001b[0;34m)\u001b[0m\u001b[0;34m\u001b[0m\u001b[0;34m\u001b[0m\u001b[0m\n",
            "\u001b[0;32m/usr/lib/python3.10/socket.py\u001b[0m in \u001b[0;36mreadinto\u001b[0;34m(self, b)\u001b[0m\n\u001b[1;32m    703\u001b[0m         \u001b[0;32mwhile\u001b[0m \u001b[0;32mTrue\u001b[0m\u001b[0;34m:\u001b[0m\u001b[0;34m\u001b[0m\u001b[0;34m\u001b[0m\u001b[0m\n\u001b[1;32m    704\u001b[0m             \u001b[0;32mtry\u001b[0m\u001b[0;34m:\u001b[0m\u001b[0;34m\u001b[0m\u001b[0;34m\u001b[0m\u001b[0m\n\u001b[0;32m--> 705\u001b[0;31m                 \u001b[0;32mreturn\u001b[0m \u001b[0mself\u001b[0m\u001b[0;34m.\u001b[0m\u001b[0m_sock\u001b[0m\u001b[0;34m.\u001b[0m\u001b[0mrecv_into\u001b[0m\u001b[0;34m(\u001b[0m\u001b[0mb\u001b[0m\u001b[0;34m)\u001b[0m\u001b[0;34m\u001b[0m\u001b[0;34m\u001b[0m\u001b[0m\n\u001b[0m\u001b[1;32m    706\u001b[0m             \u001b[0;32mexcept\u001b[0m \u001b[0mtimeout\u001b[0m\u001b[0;34m:\u001b[0m\u001b[0;34m\u001b[0m\u001b[0;34m\u001b[0m\u001b[0m\n\u001b[1;32m    707\u001b[0m                 \u001b[0mself\u001b[0m\u001b[0;34m.\u001b[0m\u001b[0m_timeout_occurred\u001b[0m \u001b[0;34m=\u001b[0m \u001b[0;32mTrue\u001b[0m\u001b[0;34m\u001b[0m\u001b[0;34m\u001b[0m\u001b[0m\n",
            "\u001b[0;31mKeyboardInterrupt\u001b[0m: "
          ]
        }
      ]
    },
    {
      "cell_type": "code",
      "source": [
        "data_stations_ = data_stations.reset_index()\n",
        "data_stations_.set_index('index', inplace=True)\n",
        "data_stations_"
      ],
      "metadata": {
        "id": "SIfppsElTV5T"
      },
      "execution_count": null,
      "outputs": []
    },
    {
      "cell_type": "code",
      "source": [
        "gantt_fig = hydrobr.Plot.gantt(data_stations) #Get the Gantt Fig\n",
        "\n",
        "#Updating the layout\n",
        "gantt_fig.update_layout(\n",
        "    autosize=False,\n",
        "    width=1200,\n",
        "    height=500,\n",
        "    xaxis_title = 'Ano',\n",
        "    yaxis_title = 'Codigo da estação',\n",
        "    font=dict(family=\"Courier New, monospace\", size=12))\n",
        "\n",
        "#To plot and save the gantt plot as html\n",
        "#plot(gantt_fig,filename='gantt' + '.html')"
      ],
      "metadata": {
        "id": "32CHZJD8TaC4"
      },
      "execution_count": null,
      "outputs": []
    },
    {
      "cell_type": "code",
      "source": [
        "# @title\n",
        "df_meta_prec = df_meta_prec.astype({\"CodEstacao\": int}) # Transforma a coluna CodEstacao em int\n",
        "#\n",
        "!mkdir -p \"/content/Separacao_flow/Estacoes_prec\"\n",
        "#\n",
        "for j in range(len(stations_code_list)): #range coloca cada vez um codigo de estação na lista pro download\n",
        "  file_prec = download.ana_prec(code= stations_code_list[j],folder='/content/Separacao_flow/Estacoes_prec')\n",
        "  print('Arquivo salvo em: {}'.format(file_prec))"
      ],
      "metadata": {
        "id": "pGdt5AEFTdLS",
        "colab": {
          "base_uri": "https://localhost:8080/",
          "height": 446
        },
        "outputId": "f65a03fc-2cc7-4735-a04c-8ce95775f4f2"
      },
      "execution_count": null,
      "outputs": [
        {
          "output_type": "stream",
          "name": "stderr",
          "text": [
            "100%|██████████| 1/1 [00:01<00:00,  1.80s/it]\n"
          ]
        },
        {
          "output_type": "stream",
          "name": "stdout",
          "text": [
            "Arquivo salvo em: /content/Separacao_flow/Estacoes_prec/ANA-prec_02850019_2002-2023__by-2024-01-16.txt\n"
          ]
        },
        {
          "output_type": "stream",
          "name": "stderr",
          "text": [
            "  0%|          | 0/1 [00:01<?, ?it/s]\n"
          ]
        },
        {
          "output_type": "error",
          "ename": "KeyboardInterrupt",
          "evalue": "",
          "traceback": [
            "\u001b[0;31m---------------------------------------------------------------------------\u001b[0m",
            "\u001b[0;31mKeyboardInterrupt\u001b[0m                         Traceback (most recent call last)",
            "\u001b[0;32m<ipython-input-11-6eead347d044>\u001b[0m in \u001b[0;36m<cell line: 6>\u001b[0;34m()\u001b[0m\n\u001b[1;32m      5\u001b[0m \u001b[0;31m#\u001b[0m\u001b[0;34m\u001b[0m\u001b[0;34m\u001b[0m\u001b[0m\n\u001b[1;32m      6\u001b[0m \u001b[0;32mfor\u001b[0m \u001b[0mj\u001b[0m \u001b[0;32min\u001b[0m \u001b[0mrange\u001b[0m\u001b[0;34m(\u001b[0m\u001b[0mlen\u001b[0m\u001b[0;34m(\u001b[0m\u001b[0mstations_code_list\u001b[0m\u001b[0;34m)\u001b[0m\u001b[0;34m)\u001b[0m\u001b[0;34m:\u001b[0m \u001b[0;31m#range coloca cada vez um codigo de estação na lista pro download\u001b[0m\u001b[0;34m\u001b[0m\u001b[0;34m\u001b[0m\u001b[0m\n\u001b[0;32m----> 7\u001b[0;31m   \u001b[0mfile_prec\u001b[0m \u001b[0;34m=\u001b[0m \u001b[0mdownload\u001b[0m\u001b[0;34m.\u001b[0m\u001b[0mana_prec\u001b[0m\u001b[0;34m(\u001b[0m\u001b[0mcode\u001b[0m\u001b[0;34m=\u001b[0m \u001b[0mstations_code_list\u001b[0m\u001b[0;34m[\u001b[0m\u001b[0mj\u001b[0m\u001b[0;34m]\u001b[0m\u001b[0;34m,\u001b[0m\u001b[0mfolder\u001b[0m\u001b[0;34m=\u001b[0m\u001b[0;34m'/content/Separacao_flow/Estacoes_prec'\u001b[0m\u001b[0;34m)\u001b[0m\u001b[0;34m\u001b[0m\u001b[0;34m\u001b[0m\u001b[0m\n\u001b[0m\u001b[1;32m      8\u001b[0m   \u001b[0mprint\u001b[0m\u001b[0;34m(\u001b[0m\u001b[0;34m'Arquivo salvo em: {}'\u001b[0m\u001b[0;34m.\u001b[0m\u001b[0mformat\u001b[0m\u001b[0;34m(\u001b[0m\u001b[0mfile_prec\u001b[0m\u001b[0;34m)\u001b[0m\u001b[0;34m)\u001b[0m\u001b[0;34m\u001b[0m\u001b[0;34m\u001b[0m\u001b[0m\n",
            "\u001b[0;32m/content/gespla/download.py\u001b[0m in \u001b[0;36mana_prec\u001b[0;34m(code, folder, suff)\u001b[0m\n\u001b[1;32m    484\u001b[0m     \u001b[0;32mif\u001b[0m \u001b[0mcode\u001b[0m \u001b[0;32min\u001b[0m \u001b[0mdf_meta\u001b[0m\u001b[0;34m.\u001b[0m\u001b[0mindex\u001b[0m\u001b[0;34m:\u001b[0m\u001b[0;34m\u001b[0m\u001b[0;34m\u001b[0m\u001b[0m\n\u001b[1;32m    485\u001b[0m         \u001b[0;31m# use the .flow_data method\u001b[0m\u001b[0;34m\u001b[0m\u001b[0;34m\u001b[0m\u001b[0m\n\u001b[0;32m--> 486\u001b[0;31m         \u001b[0mdf\u001b[0m \u001b[0;34m=\u001b[0m \u001b[0mhb\u001b[0m\u001b[0;34m.\u001b[0m\u001b[0mget_data\u001b[0m\u001b[0;34m.\u001b[0m\u001b[0mANA\u001b[0m\u001b[0;34m.\u001b[0m\u001b[0mprec_data\u001b[0m\u001b[0;34m(\u001b[0m\u001b[0;34m[\u001b[0m\u001b[0mcode\u001b[0m\u001b[0;34m]\u001b[0m\u001b[0;34m)\u001b[0m\u001b[0;34m\u001b[0m\u001b[0;34m\u001b[0m\u001b[0m\n\u001b[0m\u001b[1;32m    487\u001b[0m         \u001b[0mdf\u001b[0m\u001b[0;34m.\u001b[0m\u001b[0mreset_index\u001b[0m\u001b[0;34m(\u001b[0m\u001b[0minplace\u001b[0m\u001b[0;34m=\u001b[0m\u001b[0;32mTrue\u001b[0m\u001b[0;34m)\u001b[0m\u001b[0;34m\u001b[0m\u001b[0;34m\u001b[0m\u001b[0m\n\u001b[1;32m    488\u001b[0m         \u001b[0mdf\u001b[0m\u001b[0;34m.\u001b[0m\u001b[0mrename\u001b[0m\u001b[0;34m(\u001b[0m\u001b[0mmapper\u001b[0m\u001b[0;34m=\u001b[0m\u001b[0;34m{\u001b[0m\u001b[0;34m'index'\u001b[0m\u001b[0;34m:\u001b[0m \u001b[0;34m'Date'\u001b[0m\u001b[0;34m,\u001b[0m \u001b[0mcode\u001b[0m\u001b[0;34m:\u001b[0m \u001b[0;34m'Prec'\u001b[0m\u001b[0;34m}\u001b[0m\u001b[0;34m,\u001b[0m \u001b[0maxis\u001b[0m\u001b[0;34m=\u001b[0m\u001b[0;34m'columns'\u001b[0m\u001b[0;34m,\u001b[0m \u001b[0minplace\u001b[0m\u001b[0;34m=\u001b[0m\u001b[0;32mTrue\u001b[0m\u001b[0;34m)\u001b[0m\u001b[0;34m\u001b[0m\u001b[0;34m\u001b[0m\u001b[0m\n",
            "\u001b[0;32m/usr/local/lib/python3.10/dist-packages/hydrobr/get_data.py\u001b[0m in \u001b[0;36mprec_data\u001b[0;34m(list_station, only_consisted)\u001b[0m\n\u001b[1;32m    213\u001b[0m         \"\"\"\n\u001b[1;32m    214\u001b[0m \u001b[0;34m\u001b[0m\u001b[0m\n\u001b[0;32m--> 215\u001b[0;31m         \u001b[0mdata_stations\u001b[0m \u001b[0;34m=\u001b[0m \u001b[0mANA\u001b[0m\u001b[0;34m.\u001b[0m\u001b[0m__data_ana\u001b[0m\u001b[0;34m(\u001b[0m\u001b[0mlist_station\u001b[0m\u001b[0;34m,\u001b[0m \u001b[0;34m'2'\u001b[0m\u001b[0;34m,\u001b[0m \u001b[0monly_consisted\u001b[0m\u001b[0;34m=\u001b[0m\u001b[0monly_consisted\u001b[0m\u001b[0;34m)\u001b[0m\u001b[0;34m\u001b[0m\u001b[0;34m\u001b[0m\u001b[0m\n\u001b[0m\u001b[1;32m    216\u001b[0m \u001b[0;34m\u001b[0m\u001b[0m\n\u001b[1;32m    217\u001b[0m         \u001b[0;32mreturn\u001b[0m \u001b[0mdata_stations\u001b[0m\u001b[0;34m\u001b[0m\u001b[0;34m\u001b[0m\u001b[0m\n",
            "\u001b[0;32m/usr/local/lib/python3.10/dist-packages/hydrobr/get_data.py\u001b[0m in \u001b[0;36m__data_ana\u001b[0;34m(list_station, data_type, only_consisted)\u001b[0m\n\u001b[1;32m    139\u001b[0m             \u001b[0mparams\u001b[0m\u001b[0;34m[\u001b[0m\u001b[0;34m'codEstacao'\u001b[0m\u001b[0;34m]\u001b[0m \u001b[0;34m=\u001b[0m \u001b[0mstr\u001b[0m\u001b[0;34m(\u001b[0m\u001b[0mstation\u001b[0m\u001b[0;34m)\u001b[0m\u001b[0;34m\u001b[0m\u001b[0;34m\u001b[0m\u001b[0m\n\u001b[1;32m    140\u001b[0m             \u001b[0;32mtry\u001b[0m\u001b[0;34m:\u001b[0m\u001b[0;34m\u001b[0m\u001b[0;34m\u001b[0m\u001b[0m\n\u001b[0;32m--> 141\u001b[0;31m                 response = requests.get('http://telemetriaws1.ana.gov.br/ServiceANA.asmx/HidroSerieHistorica', params,\n\u001b[0m\u001b[1;32m    142\u001b[0m                                         timeout=120.0)\n\u001b[1;32m    143\u001b[0m             except (\n",
            "\u001b[0;32m/usr/local/lib/python3.10/dist-packages/requests/api.py\u001b[0m in \u001b[0;36mget\u001b[0;34m(url, params, **kwargs)\u001b[0m\n\u001b[1;32m     71\u001b[0m     \"\"\"\n\u001b[1;32m     72\u001b[0m \u001b[0;34m\u001b[0m\u001b[0m\n\u001b[0;32m---> 73\u001b[0;31m     \u001b[0;32mreturn\u001b[0m \u001b[0mrequest\u001b[0m\u001b[0;34m(\u001b[0m\u001b[0;34m\"get\"\u001b[0m\u001b[0;34m,\u001b[0m \u001b[0murl\u001b[0m\u001b[0;34m,\u001b[0m \u001b[0mparams\u001b[0m\u001b[0;34m=\u001b[0m\u001b[0mparams\u001b[0m\u001b[0;34m,\u001b[0m \u001b[0;34m**\u001b[0m\u001b[0mkwargs\u001b[0m\u001b[0;34m)\u001b[0m\u001b[0;34m\u001b[0m\u001b[0;34m\u001b[0m\u001b[0m\n\u001b[0m\u001b[1;32m     74\u001b[0m \u001b[0;34m\u001b[0m\u001b[0m\n\u001b[1;32m     75\u001b[0m \u001b[0;34m\u001b[0m\u001b[0m\n",
            "\u001b[0;32m/usr/local/lib/python3.10/dist-packages/requests/api.py\u001b[0m in \u001b[0;36mrequest\u001b[0;34m(method, url, **kwargs)\u001b[0m\n\u001b[1;32m     57\u001b[0m     \u001b[0;31m# cases, and look like a memory leak in others.\u001b[0m\u001b[0;34m\u001b[0m\u001b[0;34m\u001b[0m\u001b[0m\n\u001b[1;32m     58\u001b[0m     \u001b[0;32mwith\u001b[0m \u001b[0msessions\u001b[0m\u001b[0;34m.\u001b[0m\u001b[0mSession\u001b[0m\u001b[0;34m(\u001b[0m\u001b[0;34m)\u001b[0m \u001b[0;32mas\u001b[0m \u001b[0msession\u001b[0m\u001b[0;34m:\u001b[0m\u001b[0;34m\u001b[0m\u001b[0;34m\u001b[0m\u001b[0m\n\u001b[0;32m---> 59\u001b[0;31m         \u001b[0;32mreturn\u001b[0m \u001b[0msession\u001b[0m\u001b[0;34m.\u001b[0m\u001b[0mrequest\u001b[0m\u001b[0;34m(\u001b[0m\u001b[0mmethod\u001b[0m\u001b[0;34m=\u001b[0m\u001b[0mmethod\u001b[0m\u001b[0;34m,\u001b[0m \u001b[0murl\u001b[0m\u001b[0;34m=\u001b[0m\u001b[0murl\u001b[0m\u001b[0;34m,\u001b[0m \u001b[0;34m**\u001b[0m\u001b[0mkwargs\u001b[0m\u001b[0;34m)\u001b[0m\u001b[0;34m\u001b[0m\u001b[0;34m\u001b[0m\u001b[0m\n\u001b[0m\u001b[1;32m     60\u001b[0m \u001b[0;34m\u001b[0m\u001b[0m\n\u001b[1;32m     61\u001b[0m \u001b[0;34m\u001b[0m\u001b[0m\n",
            "\u001b[0;32m/usr/local/lib/python3.10/dist-packages/requests/sessions.py\u001b[0m in \u001b[0;36mrequest\u001b[0;34m(self, method, url, params, data, headers, cookies, files, auth, timeout, allow_redirects, proxies, hooks, stream, verify, cert, json)\u001b[0m\n\u001b[1;32m    587\u001b[0m         }\n\u001b[1;32m    588\u001b[0m         \u001b[0msend_kwargs\u001b[0m\u001b[0;34m.\u001b[0m\u001b[0mupdate\u001b[0m\u001b[0;34m(\u001b[0m\u001b[0msettings\u001b[0m\u001b[0;34m)\u001b[0m\u001b[0;34m\u001b[0m\u001b[0;34m\u001b[0m\u001b[0m\n\u001b[0;32m--> 589\u001b[0;31m         \u001b[0mresp\u001b[0m \u001b[0;34m=\u001b[0m \u001b[0mself\u001b[0m\u001b[0;34m.\u001b[0m\u001b[0msend\u001b[0m\u001b[0;34m(\u001b[0m\u001b[0mprep\u001b[0m\u001b[0;34m,\u001b[0m \u001b[0;34m**\u001b[0m\u001b[0msend_kwargs\u001b[0m\u001b[0;34m)\u001b[0m\u001b[0;34m\u001b[0m\u001b[0;34m\u001b[0m\u001b[0m\n\u001b[0m\u001b[1;32m    590\u001b[0m \u001b[0;34m\u001b[0m\u001b[0m\n\u001b[1;32m    591\u001b[0m         \u001b[0;32mreturn\u001b[0m \u001b[0mresp\u001b[0m\u001b[0;34m\u001b[0m\u001b[0;34m\u001b[0m\u001b[0m\n",
            "\u001b[0;32m/usr/local/lib/python3.10/dist-packages/requests/sessions.py\u001b[0m in \u001b[0;36msend\u001b[0;34m(self, request, **kwargs)\u001b[0m\n\u001b[1;32m    745\u001b[0m \u001b[0;34m\u001b[0m\u001b[0m\n\u001b[1;32m    746\u001b[0m         \u001b[0;32mif\u001b[0m \u001b[0;32mnot\u001b[0m \u001b[0mstream\u001b[0m\u001b[0;34m:\u001b[0m\u001b[0;34m\u001b[0m\u001b[0;34m\u001b[0m\u001b[0m\n\u001b[0;32m--> 747\u001b[0;31m             \u001b[0mr\u001b[0m\u001b[0;34m.\u001b[0m\u001b[0mcontent\u001b[0m\u001b[0;34m\u001b[0m\u001b[0;34m\u001b[0m\u001b[0m\n\u001b[0m\u001b[1;32m    748\u001b[0m \u001b[0;34m\u001b[0m\u001b[0m\n\u001b[1;32m    749\u001b[0m         \u001b[0;32mreturn\u001b[0m \u001b[0mr\u001b[0m\u001b[0;34m\u001b[0m\u001b[0;34m\u001b[0m\u001b[0m\n",
            "\u001b[0;32m/usr/local/lib/python3.10/dist-packages/requests/models.py\u001b[0m in \u001b[0;36mcontent\u001b[0;34m(self)\u001b[0m\n\u001b[1;32m    897\u001b[0m                 \u001b[0mself\u001b[0m\u001b[0;34m.\u001b[0m\u001b[0m_content\u001b[0m \u001b[0;34m=\u001b[0m \u001b[0;32mNone\u001b[0m\u001b[0;34m\u001b[0m\u001b[0;34m\u001b[0m\u001b[0m\n\u001b[1;32m    898\u001b[0m             \u001b[0;32melse\u001b[0m\u001b[0;34m:\u001b[0m\u001b[0;34m\u001b[0m\u001b[0;34m\u001b[0m\u001b[0m\n\u001b[0;32m--> 899\u001b[0;31m                 \u001b[0mself\u001b[0m\u001b[0;34m.\u001b[0m\u001b[0m_content\u001b[0m \u001b[0;34m=\u001b[0m \u001b[0;34mb\"\"\u001b[0m\u001b[0;34m.\u001b[0m\u001b[0mjoin\u001b[0m\u001b[0;34m(\u001b[0m\u001b[0mself\u001b[0m\u001b[0;34m.\u001b[0m\u001b[0miter_content\u001b[0m\u001b[0;34m(\u001b[0m\u001b[0mCONTENT_CHUNK_SIZE\u001b[0m\u001b[0;34m)\u001b[0m\u001b[0;34m)\u001b[0m \u001b[0;32mor\u001b[0m \u001b[0;34mb\"\"\u001b[0m\u001b[0;34m\u001b[0m\u001b[0;34m\u001b[0m\u001b[0m\n\u001b[0m\u001b[1;32m    900\u001b[0m \u001b[0;34m\u001b[0m\u001b[0m\n\u001b[1;32m    901\u001b[0m         \u001b[0mself\u001b[0m\u001b[0;34m.\u001b[0m\u001b[0m_content_consumed\u001b[0m \u001b[0;34m=\u001b[0m \u001b[0;32mTrue\u001b[0m\u001b[0;34m\u001b[0m\u001b[0;34m\u001b[0m\u001b[0m\n",
            "\u001b[0;32m/usr/local/lib/python3.10/dist-packages/requests/models.py\u001b[0m in \u001b[0;36mgenerate\u001b[0;34m()\u001b[0m\n\u001b[1;32m    814\u001b[0m             \u001b[0;32mif\u001b[0m \u001b[0mhasattr\u001b[0m\u001b[0;34m(\u001b[0m\u001b[0mself\u001b[0m\u001b[0;34m.\u001b[0m\u001b[0mraw\u001b[0m\u001b[0;34m,\u001b[0m \u001b[0;34m\"stream\"\u001b[0m\u001b[0;34m)\u001b[0m\u001b[0;34m:\u001b[0m\u001b[0;34m\u001b[0m\u001b[0;34m\u001b[0m\u001b[0m\n\u001b[1;32m    815\u001b[0m                 \u001b[0;32mtry\u001b[0m\u001b[0;34m:\u001b[0m\u001b[0;34m\u001b[0m\u001b[0;34m\u001b[0m\u001b[0m\n\u001b[0;32m--> 816\u001b[0;31m                     \u001b[0;32myield\u001b[0m \u001b[0;32mfrom\u001b[0m \u001b[0mself\u001b[0m\u001b[0;34m.\u001b[0m\u001b[0mraw\u001b[0m\u001b[0;34m.\u001b[0m\u001b[0mstream\u001b[0m\u001b[0;34m(\u001b[0m\u001b[0mchunk_size\u001b[0m\u001b[0;34m,\u001b[0m \u001b[0mdecode_content\u001b[0m\u001b[0;34m=\u001b[0m\u001b[0;32mTrue\u001b[0m\u001b[0;34m)\u001b[0m\u001b[0;34m\u001b[0m\u001b[0;34m\u001b[0m\u001b[0m\n\u001b[0m\u001b[1;32m    817\u001b[0m                 \u001b[0;32mexcept\u001b[0m \u001b[0mProtocolError\u001b[0m \u001b[0;32mas\u001b[0m \u001b[0me\u001b[0m\u001b[0;34m:\u001b[0m\u001b[0;34m\u001b[0m\u001b[0;34m\u001b[0m\u001b[0m\n\u001b[1;32m    818\u001b[0m                     \u001b[0;32mraise\u001b[0m \u001b[0mChunkedEncodingError\u001b[0m\u001b[0;34m(\u001b[0m\u001b[0me\u001b[0m\u001b[0;34m)\u001b[0m\u001b[0;34m\u001b[0m\u001b[0;34m\u001b[0m\u001b[0m\n",
            "\u001b[0;32m/usr/local/lib/python3.10/dist-packages/urllib3/response.py\u001b[0m in \u001b[0;36mstream\u001b[0;34m(self, amt, decode_content)\u001b[0m\n\u001b[1;32m    931\u001b[0m         \"\"\"\n\u001b[1;32m    932\u001b[0m         \u001b[0;32mif\u001b[0m \u001b[0mself\u001b[0m\u001b[0;34m.\u001b[0m\u001b[0mchunked\u001b[0m \u001b[0;32mand\u001b[0m \u001b[0mself\u001b[0m\u001b[0;34m.\u001b[0m\u001b[0msupports_chunked_reads\u001b[0m\u001b[0;34m(\u001b[0m\u001b[0;34m)\u001b[0m\u001b[0;34m:\u001b[0m\u001b[0;34m\u001b[0m\u001b[0;34m\u001b[0m\u001b[0m\n\u001b[0;32m--> 933\u001b[0;31m             \u001b[0;32myield\u001b[0m \u001b[0;32mfrom\u001b[0m \u001b[0mself\u001b[0m\u001b[0;34m.\u001b[0m\u001b[0mread_chunked\u001b[0m\u001b[0;34m(\u001b[0m\u001b[0mamt\u001b[0m\u001b[0;34m,\u001b[0m \u001b[0mdecode_content\u001b[0m\u001b[0;34m=\u001b[0m\u001b[0mdecode_content\u001b[0m\u001b[0;34m)\u001b[0m\u001b[0;34m\u001b[0m\u001b[0;34m\u001b[0m\u001b[0m\n\u001b[0m\u001b[1;32m    934\u001b[0m         \u001b[0;32melse\u001b[0m\u001b[0;34m:\u001b[0m\u001b[0;34m\u001b[0m\u001b[0;34m\u001b[0m\u001b[0m\n\u001b[1;32m    935\u001b[0m             \u001b[0;32mwhile\u001b[0m \u001b[0;32mnot\u001b[0m \u001b[0mis_fp_closed\u001b[0m\u001b[0;34m(\u001b[0m\u001b[0mself\u001b[0m\u001b[0;34m.\u001b[0m\u001b[0m_fp\u001b[0m\u001b[0;34m)\u001b[0m \u001b[0;32mor\u001b[0m \u001b[0mlen\u001b[0m\u001b[0;34m(\u001b[0m\u001b[0mself\u001b[0m\u001b[0;34m.\u001b[0m\u001b[0m_decoded_buffer\u001b[0m\u001b[0;34m)\u001b[0m \u001b[0;34m>\u001b[0m \u001b[0;36m0\u001b[0m\u001b[0;34m:\u001b[0m\u001b[0;34m\u001b[0m\u001b[0;34m\u001b[0m\u001b[0m\n",
            "\u001b[0;32m/usr/local/lib/python3.10/dist-packages/urllib3/response.py\u001b[0m in \u001b[0;36mread_chunked\u001b[0;34m(self, amt, decode_content)\u001b[0m\n\u001b[1;32m   1074\u001b[0m                 \u001b[0;32mif\u001b[0m \u001b[0mself\u001b[0m\u001b[0;34m.\u001b[0m\u001b[0mchunk_left\u001b[0m \u001b[0;34m==\u001b[0m \u001b[0;36m0\u001b[0m\u001b[0;34m:\u001b[0m\u001b[0;34m\u001b[0m\u001b[0;34m\u001b[0m\u001b[0m\n\u001b[1;32m   1075\u001b[0m                     \u001b[0;32mbreak\u001b[0m\u001b[0;34m\u001b[0m\u001b[0;34m\u001b[0m\u001b[0m\n\u001b[0;32m-> 1076\u001b[0;31m                 \u001b[0mchunk\u001b[0m \u001b[0;34m=\u001b[0m \u001b[0mself\u001b[0m\u001b[0;34m.\u001b[0m\u001b[0m_handle_chunk\u001b[0m\u001b[0;34m(\u001b[0m\u001b[0mamt\u001b[0m\u001b[0;34m)\u001b[0m\u001b[0;34m\u001b[0m\u001b[0;34m\u001b[0m\u001b[0m\n\u001b[0m\u001b[1;32m   1077\u001b[0m                 decoded = self._decode(\n\u001b[1;32m   1078\u001b[0m                     \u001b[0mchunk\u001b[0m\u001b[0;34m,\u001b[0m \u001b[0mdecode_content\u001b[0m\u001b[0;34m=\u001b[0m\u001b[0mdecode_content\u001b[0m\u001b[0;34m,\u001b[0m \u001b[0mflush_decoder\u001b[0m\u001b[0;34m=\u001b[0m\u001b[0;32mFalse\u001b[0m\u001b[0;34m\u001b[0m\u001b[0;34m\u001b[0m\u001b[0m\n",
            "\u001b[0;32m/usr/local/lib/python3.10/dist-packages/urllib3/response.py\u001b[0m in \u001b[0;36m_handle_chunk\u001b[0;34m(self, amt)\u001b[0m\n\u001b[1;32m   1016\u001b[0m             \u001b[0mself\u001b[0m\u001b[0;34m.\u001b[0m\u001b[0mchunk_left\u001b[0m \u001b[0;34m=\u001b[0m \u001b[0;32mNone\u001b[0m\u001b[0;34m\u001b[0m\u001b[0;34m\u001b[0m\u001b[0m\n\u001b[1;32m   1017\u001b[0m         \u001b[0;32melif\u001b[0m \u001b[0mself\u001b[0m\u001b[0;34m.\u001b[0m\u001b[0mchunk_left\u001b[0m \u001b[0;32mis\u001b[0m \u001b[0;32mnot\u001b[0m \u001b[0;32mNone\u001b[0m \u001b[0;32mand\u001b[0m \u001b[0mamt\u001b[0m \u001b[0;34m<\u001b[0m \u001b[0mself\u001b[0m\u001b[0;34m.\u001b[0m\u001b[0mchunk_left\u001b[0m\u001b[0;34m:\u001b[0m\u001b[0;34m\u001b[0m\u001b[0;34m\u001b[0m\u001b[0m\n\u001b[0;32m-> 1018\u001b[0;31m             \u001b[0mvalue\u001b[0m \u001b[0;34m=\u001b[0m \u001b[0mself\u001b[0m\u001b[0;34m.\u001b[0m\u001b[0m_fp\u001b[0m\u001b[0;34m.\u001b[0m\u001b[0m_safe_read\u001b[0m\u001b[0;34m(\u001b[0m\u001b[0mamt\u001b[0m\u001b[0;34m)\u001b[0m  \u001b[0;31m# type: ignore[union-attr]\u001b[0m\u001b[0;34m\u001b[0m\u001b[0;34m\u001b[0m\u001b[0m\n\u001b[0m\u001b[1;32m   1019\u001b[0m             \u001b[0mself\u001b[0m\u001b[0;34m.\u001b[0m\u001b[0mchunk_left\u001b[0m \u001b[0;34m=\u001b[0m \u001b[0mself\u001b[0m\u001b[0;34m.\u001b[0m\u001b[0mchunk_left\u001b[0m \u001b[0;34m-\u001b[0m \u001b[0mamt\u001b[0m\u001b[0;34m\u001b[0m\u001b[0;34m\u001b[0m\u001b[0m\n\u001b[1;32m   1020\u001b[0m             \u001b[0mreturned_chunk\u001b[0m \u001b[0;34m=\u001b[0m \u001b[0mvalue\u001b[0m\u001b[0;34m\u001b[0m\u001b[0;34m\u001b[0m\u001b[0m\n",
            "\u001b[0;32m/usr/lib/python3.10/http/client.py\u001b[0m in \u001b[0;36m_safe_read\u001b[0;34m(self, amt)\u001b[0m\n\u001b[1;32m    629\u001b[0m         \u001b[0mIncompleteRead\u001b[0m \u001b[0mexception\u001b[0m \u001b[0mcan\u001b[0m \u001b[0mbe\u001b[0m \u001b[0mused\u001b[0m \u001b[0mto\u001b[0m \u001b[0mdetect\u001b[0m \u001b[0mthe\u001b[0m \u001b[0mproblem\u001b[0m\u001b[0;34m.\u001b[0m\u001b[0;34m\u001b[0m\u001b[0;34m\u001b[0m\u001b[0m\n\u001b[1;32m    630\u001b[0m         \"\"\"\n\u001b[0;32m--> 631\u001b[0;31m         \u001b[0mdata\u001b[0m \u001b[0;34m=\u001b[0m \u001b[0mself\u001b[0m\u001b[0;34m.\u001b[0m\u001b[0mfp\u001b[0m\u001b[0;34m.\u001b[0m\u001b[0mread\u001b[0m\u001b[0;34m(\u001b[0m\u001b[0mamt\u001b[0m\u001b[0;34m)\u001b[0m\u001b[0;34m\u001b[0m\u001b[0;34m\u001b[0m\u001b[0m\n\u001b[0m\u001b[1;32m    632\u001b[0m         \u001b[0;32mif\u001b[0m \u001b[0mlen\u001b[0m\u001b[0;34m(\u001b[0m\u001b[0mdata\u001b[0m\u001b[0;34m)\u001b[0m \u001b[0;34m<\u001b[0m \u001b[0mamt\u001b[0m\u001b[0;34m:\u001b[0m\u001b[0;34m\u001b[0m\u001b[0;34m\u001b[0m\u001b[0m\n\u001b[1;32m    633\u001b[0m             \u001b[0;32mraise\u001b[0m \u001b[0mIncompleteRead\u001b[0m\u001b[0;34m(\u001b[0m\u001b[0mdata\u001b[0m\u001b[0;34m,\u001b[0m \u001b[0mamt\u001b[0m\u001b[0;34m-\u001b[0m\u001b[0mlen\u001b[0m\u001b[0;34m(\u001b[0m\u001b[0mdata\u001b[0m\u001b[0;34m)\u001b[0m\u001b[0;34m)\u001b[0m\u001b[0;34m\u001b[0m\u001b[0;34m\u001b[0m\u001b[0m\n",
            "\u001b[0;32m/usr/lib/python3.10/socket.py\u001b[0m in \u001b[0;36mreadinto\u001b[0;34m(self, b)\u001b[0m\n\u001b[1;32m    703\u001b[0m         \u001b[0;32mwhile\u001b[0m \u001b[0;32mTrue\u001b[0m\u001b[0;34m:\u001b[0m\u001b[0;34m\u001b[0m\u001b[0;34m\u001b[0m\u001b[0m\n\u001b[1;32m    704\u001b[0m             \u001b[0;32mtry\u001b[0m\u001b[0;34m:\u001b[0m\u001b[0;34m\u001b[0m\u001b[0;34m\u001b[0m\u001b[0m\n\u001b[0;32m--> 705\u001b[0;31m                 \u001b[0;32mreturn\u001b[0m \u001b[0mself\u001b[0m\u001b[0;34m.\u001b[0m\u001b[0m_sock\u001b[0m\u001b[0;34m.\u001b[0m\u001b[0mrecv_into\u001b[0m\u001b[0;34m(\u001b[0m\u001b[0mb\u001b[0m\u001b[0;34m)\u001b[0m\u001b[0;34m\u001b[0m\u001b[0;34m\u001b[0m\u001b[0m\n\u001b[0m\u001b[1;32m    706\u001b[0m             \u001b[0;32mexcept\u001b[0m \u001b[0mtimeout\u001b[0m\u001b[0;34m:\u001b[0m\u001b[0;34m\u001b[0m\u001b[0;34m\u001b[0m\u001b[0m\n\u001b[1;32m    707\u001b[0m                 \u001b[0mself\u001b[0m\u001b[0;34m.\u001b[0m\u001b[0m_timeout_occurred\u001b[0m \u001b[0;34m=\u001b[0m \u001b[0;32mTrue\u001b[0m\u001b[0;34m\u001b[0m\u001b[0;34m\u001b[0m\u001b[0m\n",
            "\u001b[0;31mKeyboardInterrupt\u001b[0m: "
          ]
        }
      ]
    },
    {
      "cell_type": "markdown",
      "metadata": {
        "id": "iKq35-Y12-Yb"
      },
      "source": [
        "### Escolha de estação de vazão para separação de eventos"
      ]
    },
    {
      "cell_type": "code",
      "execution_count": null,
      "metadata": {
        "id": "h3TXzV862VG7"
      },
      "outputs": [],
      "source": [
        "df_meta_flow = df_meta_flow.astype({\"CodEstacao\": int}) # Transforma a coluna CodEstacao em int\n",
        "flow_station = '76800000' # Estação de vazão selecionada para separação de eventos\n",
        "#df = df_meta_flow[df_meta_flow.CodEstacao.isin(flow_station)] # Filtra Dataframe da estação de vazão selecionada\n",
        "file_flow = download.ana_flow(code=flow_station, folder='/content/IDW') # Download da série de vazão\n",
        "\n",
        "#precisa alterar o nome do arquivo que foi feito o download\n",
        "df_flow = pd.read_csv(file_flow, sep=\";\") #Carregando série de vazão\n",
        "df_flow"
      ]
    },
    {
      "cell_type": "code",
      "execution_count": null,
      "metadata": {
        "id": "QGUteTFgpBi7"
      },
      "outputs": [],
      "source": [
        "# Plotagem da estação de vazão em forma que simplifica seleção de eventos\n",
        "fig = go.Figure()\n",
        "fig.add_trace(go.Scatter(x=df_flow['Date'], y=df_flow['Flow'], name=\"Vazão\"))#,line_color='black'))\n",
        "fig.layout.update(title_text='Série de vazão da estação selecionada',xaxis_rangeslider_visible=True, xaxis_title='Tempo (dias)', yaxis_title='Vazão')\n",
        "fig"
      ]
    },
    {
      "cell_type": "markdown",
      "metadata": {
        "id": "D_QyYy5q52IJ"
      },
      "source": [
        "### Estações de precipitação para gerar IDW"
      ]
    },
    {
      "cell_type": "markdown",
      "metadata": {
        "id": "SVexk5n5Chjy"
      },
      "source": [
        "# **Gerando um geodataframe com coordenadas e precipitacoes para espacialização**"
      ]
    },
    {
      "cell_type": "code",
      "execution_count": null,
      "metadata": {
        "id": "sf5HXzajGePl"
      },
      "outputs": [],
      "source": [
        "df_meta_prec_filtrado = df_meta_prec[df_meta_prec['CodEstacao'].isin(stations_code_list)]\n",
        "df_meta_prec_filtrado\n",
        "\n",
        "colunas_desejadas = ['CodEstacao', 'Latitude',  'Longitude']\n",
        "\n",
        "# Recortar o DataFrame para manter apenas as colunas desejadas\n",
        "df_recortado_lat_lon = df_meta_prec_filtrado[colunas_desejadas]\n",
        "df_recortado_lat_lon.set_index('CodEstacao', inplace=True)\n",
        "df_recortado_lat_lon"
      ]
    },
    {
      "cell_type": "code",
      "source": [
        "data_stations_.index = pd.to_datetime(data_stations_.index)\n",
        "data_inicio_filtro = pd.to_datetime('2013-08-21')\n",
        "data_fim_filtro = pd.to_datetime('2013-09-13')\n",
        "\n",
        "df_ev_teste = data_stations_.loc[(data_stations_.index >= data_inicio_filtro) & (data_stations_.index <= data_fim_filtro)]\n",
        "df_ev_teste_transposto_t = df_ev_teste.T\n",
        "df_ev_teste_transposto_t\n",
        "\n",
        "df_teste = pd.merge(df_ev_teste_transposto_t, df_recortado_lat_lon, left_index=True, right_index=True)\n",
        "\n",
        "# Cria uma coluna de geometria de ponto\n",
        "geometry = [Point(lon, lat) for lon, lat in zip(df_teste['Longitude'], df_teste['Latitude'])]\n",
        "geo_df = gpd.GeoDataFrame(df_teste, geometry=geometry)\n",
        "\n",
        "geo_df.crs = 'EPSG:4326' # Sistema de referencoa de coordenada especifico\n",
        "geo_df"
      ],
      "metadata": {
        "id": "pFAjTMIsS0zB"
      },
      "execution_count": null,
      "outputs": []
    },
    {
      "cell_type": "code",
      "source": [
        "fig, ax = plt.subplots(figsize=(10, 6))\n",
        "\n",
        "subbacia_select.plot(ax=ax, color='red', label='Sub-bacia')\n",
        "geo_df.plot(ax=ax, color='blue', label='Estações')\n",
        "ax.legend(loc='upper left', title='Sub-bacia')\n",
        "ax.legend(loc='upper right', title='Estações')\n",
        "plt.title('Sub-bacia com estações')\n",
        "plt.show()"
      ],
      "metadata": {
        "id": "EGXWAdCYUX0x"
      },
      "execution_count": null,
      "outputs": []
    },
    {
      "cell_type": "markdown",
      "metadata": {
        "id": "Z1xYswmGcKg0"
      },
      "source": [
        "# Definição das variáveis para gerar IDW"
      ]
    },
    {
      "cell_type": "code",
      "execution_count": null,
      "metadata": {
        "id": "0sOWEEiLBj43"
      },
      "outputs": [],
      "source": [
        "# Gerando IDW e mapas\n",
        "latitude = df_recortado_lat_lon['Latitude']\n",
        "longitude = df_recortado_lat_lon['Longitude']\n",
        "\n",
        "list_long = df_recortado_lat_lon['Longitude'].tolist()\n",
        "list_lat = df_recortado_lat_lon['Latitude'].tolist()\n",
        "\n",
        "polygon = subbacia_select.geometry.iloc[0]\n",
        "\n",
        "min_x, min_y, max_x, max_y = polygon.bounds\n",
        "\n",
        "list_long.append(min_x)\n",
        "list_long.append(max_x)\n",
        "list_lat.append(min_y)\n",
        "list_lat.append(max_y)"
      ]
    },
    {
      "cell_type": "code",
      "execution_count": null,
      "metadata": {
        "id": "9cjD9rpwcOb5"
      },
      "outputs": [],
      "source": [
        "n = 28 ## Numero de pontos para interpolar\n",
        "nx, ny = 100, 100 # Malha de interpolacao, matrix 100x100\n",
        "x = longitude # Eixo X vira longitude\n",
        "y = latitude # Eixo Y vira latitude\n",
        "xi = np.linspace(min(list_long), max(list_long), nx) # funcao linspace divide long em quantidade do grid especificado\n",
        "yi = np.linspace(min(list_lat), max(list_lat), ny)\n",
        "xi, yi = np.meshgrid(xi, yi) # Gera a matrix xi,yi (100x100 neste caso)\n",
        "xi, yi = xi.flatten(), yi.flatten()"
      ]
    },
    {
      "cell_type": "markdown",
      "metadata": {
        "id": "lmIeZlJaTKaj"
      },
      "source": [
        "### Evento teste com função IDW, apenas (Ignorar saída)"
      ]
    },
    {
      "cell_type": "code",
      "execution_count": null,
      "metadata": {
        "id": "KQQm3zI-tEd3"
      },
      "outputs": [],
      "source": []
    },
    {
      "cell_type": "code",
      "execution_count": null,
      "metadata": {
        "id": "G99J_OvipKkT"
      },
      "outputs": [],
      "source": [
        "# @title\n",
        "# TENTATIVA COM GEOPANDAS\n",
        "\n",
        "import geopandas as gpd\n",
        "import numpy as np\n",
        "import matplotlib.pyplot as plt\n",
        "\n",
        "def idw_from_geometries(df, geometry_col, value_col, xi, yi):\n",
        "    longitude = df[geometry_col].x.values\n",
        "    latitude = df[geometry_col].y.values\n",
        "    values = df[col].values\n",
        "\n",
        "    grid1 = simple_idw(longitude, latitude, values, xi, yi)\n",
        "    grid1 = grid1.reshape((ny, nx))\n",
        "\n",
        "    plot(df[geometry_col], values, grid1)\n",
        "\n",
        "def simple_idw(longitude, latitude, values, xi, yi):\n",
        "    dist = distance_matrix(longitude, latitude, xi, yi)\n",
        "    weights = 1.0 / dist**2\n",
        "    weights /= weights.sum(axis=0)\n",
        "    zi = np.dot(weights.T, values)\n",
        "    return zi\n",
        "\n",
        "def distance_matrix(x0, y0, x1, y1):\n",
        "    obs = np.vstack((x0, y0)).T\n",
        "    interp = np.vstack((x1, y1)).T\n",
        "    d0 = np.subtract.outer(obs[:, 0], interp[:, 0])\n",
        "    d1 = np.subtract.outer(obs[:, 1], interp[:, 1])\n",
        "    return np.hypot(d0, d1)\n",
        "\n",
        "def plot(geometries, values, z_grid):\n",
        "    plt.figure()\n",
        "\n",
        "    min_x, max_x, min_y, max_y = geometries.total_bounds\n",
        "    plt.imshow(z_grid, extent=(min_x, max_x, min_y, max_y), origin='lower')\n",
        "    plt.scatter(geometries.x, geometries.y, c=values, edgecolors='k', marker='o')\n",
        "    plt.colorbar(label='Value')\n",
        "    plt.title(\"Interpolated Map\")\n",
        "    plt.ylabel(\"Latitude\")\n",
        "    plt.xlabel(\"Longitude\")\n",
        "\n",
        "if __name__ == '__main__':\n",
        "    # Load your GeoPandas DataFrame with geometries and values\n",
        "    gdf = geo_df#gpd.read_file('your_shapefile.shp')\n",
        "\n",
        "    xi = np.linspace(min(gdf.geometry.x), max(gdf.geometry.x), nx)\n",
        "    yi = np.linspace(min(gdf.geometry.y), max(gdf.geometry.y), ny)\n",
        "\n",
        "    idw_from_geometries(gdf, 'geometry', 'value_column', xi, yi)\n"
      ]
    },
    {
      "cell_type": "code",
      "source": [
        "for col in df_ev1_transposto_t.columns:\n",
        "    values = df_ev1_transposto_t[col].values\n",
        "    idw_()"
      ],
      "metadata": {
        "id": "0dGFYcTzF5i_"
      },
      "execution_count": null,
      "outputs": []
    },
    {
      "cell_type": "code",
      "execution_count": null,
      "metadata": {
        "id": "2uQxFSNNdMYF"
      },
      "outputs": [],
      "source": [
        "# Função que calcula as IDW ###\n",
        "\n",
        "### Igonrar mapa de Saida\n",
        "\n",
        "def idw_():\n",
        "    # Calculate IDW\n",
        "    grid1 = simple_idw(longitude,latitude,values,xi,yi)\n",
        "    grid1 = grid1.reshape((ny, nx))\n",
        "\n",
        "    # Comparisons...\n",
        "    plot(longitude,latitude,values,grid1)\n",
        "\n",
        "    #plt.show()\n",
        "\n",
        "def simple_idw(longitude, latitude, values, xi, yi):\n",
        "    dist = distance_matrix(longitude,latitude, xi,yi)\n",
        "\n",
        "    # In IDW, weights are 1 / distance\n",
        "    weights = 1.0 / dist**2\n",
        "\n",
        "    # Make weights sum to one\n",
        "    weights /= weights.sum(axis=0)\n",
        "\n",
        "    # Multiply the weights for each interpolated point by all observed Z-values\n",
        "    zi = np.dot(weights.T, values)\n",
        "    return zi\n",
        "\n",
        "\n",
        "def distance_matrix(x0, y0, x1, y1):\n",
        "    obs = np.vstack((x0, y0)).T\n",
        "    interp = np.vstack((x1, y1)).T\n",
        "\n",
        "    # Make a distance matrix between pairwise observations\n",
        "    # Note: from <http://stackoverflow.com/questions/1871536>\n",
        "    # (Yay for ufuncs!)\n",
        "    d0 = np.subtract.outer(obs[:,0], interp[:,0])\n",
        "    d1 = np.subtract.outer(obs[:,1], interp[:,1])\n",
        "\n",
        "    return np.hypot(d0, d1)\n",
        "\n",
        "\n",
        "def plot(longitude,latitude,values,z_grid):\n",
        "    plt.figure()\n",
        "    plt.imshow(z_grid, extent=(longitude.min(), longitude.max(), latitude.min(), latitude.max()), origin='lower')\n",
        "    plt.scatter(longitude,latitude,c=values,  edgecolors='k', marker='o')\n",
        "    plt.colorbar(label=col)\n",
        "    plt.title(f\"Mapa Interpolado - {col}\")\n",
        "    plt.ylabel(\"Latitude\")\n",
        "    plt.xlabel(\"Longitude\")\n",
        "\n",
        "if __name__ == '__main__':\n",
        "    idw_()\n"
      ]
    },
    {
      "cell_type": "markdown",
      "metadata": {
        "id": "TPFCEWhhBnHR"
      },
      "source": [
        "## Evento 1"
      ]
    },
    {
      "cell_type": "code",
      "execution_count": null,
      "metadata": {
        "id": "pI3J_oU7BpP1"
      },
      "outputs": [],
      "source": [
        "\n",
        "# Supondo que as colunas de data estejam em formato de string, você pode convertê-las para datetime assim:\n",
        "data_stations_.index = pd.to_datetime(data_stations_.index)\n",
        "data_inicio_filtro = pd.to_datetime('2013-08-21')\n",
        "data_fim_filtro = pd.to_datetime('2013-09-13')\n",
        "\n",
        "df_ev1 = data_stations_.loc[(data_stations_.index >= data_inicio_filtro) & (data_stations_.index <= data_fim_filtro)]\n",
        "df_ev1_transposto_t = df_ev1.T\n",
        "df_ev1_transposto_t\n",
        "\n",
        "# juntando os dataframes\n",
        "df_final_ev1 = pd.merge(df_ev1_transposto_t, df_recortado_lat_lon, left_index=True, right_index=True)\n",
        "df_final_ev1\n",
        "\n",
        "\n",
        "# exportar para CSV, caso usuario queira gerar IDW no QGIS/ArcGIS\n",
        "output_file = 'Evento_1_to_idw.csv'\n",
        "\n",
        "# Exportar o DataFrame para o arquivo CSV\n",
        "df_final_ev1.to_csv(output_file, index=True)\n"
      ]
    },
    {
      "cell_type": "code",
      "execution_count": null,
      "metadata": {
        "id": "BX74K49NIsfV"
      },
      "outputs": [],
      "source": [
        "df_ev1_transposto_t"
      ]
    },
    {
      "cell_type": "code",
      "execution_count": null,
      "metadata": {
        "id": "qbvwibztd4_o"
      },
      "outputs": [],
      "source": [
        "for col in df_ev1_transposto_t.columns:\n",
        "    values = df_ev1_transposto_t[col].values\n",
        "    idw_()"
      ]
    },
    {
      "cell_type": "markdown",
      "metadata": {
        "id": "6LKViOrheFdC"
      },
      "source": [
        "## Testes IDW Falhos"
      ]
    },
    {
      "cell_type": "code",
      "execution_count": null,
      "metadata": {
        "id": "zBolVki1UZ2f"
      },
      "outputs": [],
      "source": [
        "# poligono de mascara é a subbacia selecionada\n",
        "\n",
        "mask_polygon = subbacia_select.geometry.iloc[0]\n",
        "sistema_coordenadas = df_shape_sub_brasil.crs\n",
        "\n",
        "print(sistema_coordenadas)"
      ]
    },
    {
      "cell_type": "code",
      "execution_count": null,
      "metadata": {
        "id": "pqmi8kwLVNso"
      },
      "outputs": [],
      "source": [
        "import cartopy.crs as ccrs\n",
        "from cartopy.io.img_tiles import OSM\n",
        "import cartopy.feature as cfeature\n",
        "import rasterio\n",
        "from rasterio.transform import from_origin"
      ]
    },
    {
      "cell_type": "code",
      "source": [
        "max(list_long)"
      ],
      "metadata": {
        "id": "Cgrob_gdZgsn"
      },
      "execution_count": null,
      "outputs": []
    },
    {
      "cell_type": "code",
      "execution_count": null,
      "metadata": {
        "id": "L-7A3Nk-FUO7"
      },
      "outputs": [],
      "source": [
        "def idw_():\n",
        "    n = 28 ## Numero de pontos para interpolar\n",
        "    nx, ny = 100, 100 # Grid de interpolacao\n",
        "    x = geo_df['geometry'].x\n",
        "    y = geo_df['geometry'].y\n",
        "    #xi = np.linspace(max(list_long), min(list_long), nx) # funcao linspace divide long em quantidade do grid especificado\n",
        "    #yi = np.linspace(max(list_lat), min(list_lat), ny)\n",
        "    xi = np.linspace(longitude.min(), longitude.max(), nx)\n",
        "    yi = np.linspace(latitude.min(), latitude.max(), ny)\n",
        "    xi, yi = np.meshgrid(xi, yi)\n",
        "    xi, yi = xi.flatten(), yi.flatten()\n",
        "\n",
        "    # Calculate IDW\n",
        "    grid1 = simple_idw(x,y,values,xi,yi)\n",
        "    grid1 = grid1.reshape((ny, nx))\n",
        "\n",
        "    # Comparisons...\n",
        "    plot(x,y,values,grid1)\n",
        "    plt.title('IDW')\n",
        "    plt.show()\n",
        "\n",
        "def simple_idw(x, y, values, xi, yi):\n",
        "    dist = distance_matrix(x,y, xi,yi)\n",
        "\n",
        "    # In IDW, weights are 1 / distance\n",
        "    weights = 1.0 / dist**2\n",
        "\n",
        "    # Make weights sum to one\n",
        "    weights /= weights.sum(axis=0)\n",
        "    #weights = np.flip(weights)\n",
        "    # Multiply the weights for each interpolated point by all observed Z-values\n",
        "    zi = np.dot(weights.T, values)\n",
        "    return zi\n",
        "\n",
        "\n",
        "def distance_matrix(x0, y0, x1, y1):\n",
        "    obs = np.vstack((x0, y0)).T\n",
        "    interp = np.vstack((x1, y1)).T\n",
        "\n",
        "    # Make a distance matrix between pairwise observations\n",
        "    # Note: from <http://stackoverflow.com/questions/1871536>\n",
        "    # (Yay for ufuncs!)\n",
        "    d0 = np.subtract.outer(obs[:,0], interp[:,0])\n",
        "    d1 = np.subtract.outer(obs[:,1], interp[:,1])\n",
        "\n",
        "    return np.hypot(d0, d1)\n",
        "\n",
        "\n",
        "def plot(x,y,values,z_grid):\n",
        "   plt.figure()\n",
        "   plt.imshow(z_grid, extent=(min(list_long), max(list_long), min(list_lat), max(list_lat)))\n",
        "   plt.scatter(x,y,c=values)\n",
        "   plt.colorbar()\n",
        "\n",
        "# def plot(x, y, values, z_grid, other_geometries=None):\n",
        "#     plt.figure()\n",
        "#     plt.imshow(z_grid, extent=(min(list_long), max(list_long), min(list_lat), max(list_lat)))\n",
        "#     plt.scatter(x, y, c=values)\n",
        "\n",
        "#     if other_geometries:\n",
        "#         gdf = gpd.GeoDataFrame(geometry=subbacia_select)\n",
        "#         gdf.plot(ax=plt.gca(), color='red')  # Plot other geometries in red\n",
        "\n",
        "#     plt.colorbar()\n",
        "#     plt.show()\n",
        "\n",
        "if __name__ == '__main__':\n",
        "    idw_()"
      ]
    },
    {
      "cell_type": "code",
      "source": [],
      "metadata": {
        "id": "AjxUhFBFO_ww"
      },
      "execution_count": null,
      "outputs": []
    },
    {
      "cell_type": "markdown",
      "metadata": {
        "id": "GO1GDKnf_2Qj"
      },
      "source": [
        "## Evento 2"
      ]
    },
    {
      "cell_type": "code",
      "execution_count": null,
      "metadata": {
        "id": "9u58aC0r_6Xb"
      },
      "outputs": [],
      "source": [
        "data_stations_.index = pd.to_datetime(data_stations_.index)\n",
        "data_inicio_filtro = pd.to_datetime('2014-05-02')\n",
        "data_fim_filtro = pd.to_datetime('2014-05-20')\n",
        "\n",
        "df_ev2 = data_stations_.loc[(data_stations_.index >= data_inicio_filtro) & (data_stations_.index <= data_fim_filtro)]\n",
        "df_ev2_transposto_t = df_ev2.T\n",
        "df_ev2_transposto_t\n",
        "\n",
        "\n",
        "# juntando os dataframes\n",
        "df_final_ev2 = pd.merge(df_ev2_transposto_t, df_recortado_lat_lon, left_index=True, right_index=True)\n",
        "df_final_ev2\n",
        "\n",
        "# exportar para CSV\n",
        "output_file_2 = 'Evento_2_to_idw.csv'\n",
        "\n",
        "# Exportar o DataFrame para o arquivo CSV\n",
        "df_final_ev2.to_csv(output_file_2, index=True)"
      ]
    },
    {
      "cell_type": "code",
      "execution_count": null,
      "metadata": {
        "id": "at9D8P4YeJNS"
      },
      "outputs": [],
      "source": [
        "df_ev2_transposto_t"
      ]
    },
    {
      "cell_type": "code",
      "execution_count": null,
      "metadata": {
        "id": "8WRdv8mGdwmh"
      },
      "outputs": [],
      "source": [
        "for col in df_ev2_transposto_t.columns:\n",
        "    values = df_ev2_transposto_t[col].values\n",
        "    idw_()"
      ]
    },
    {
      "cell_type": "markdown",
      "metadata": {
        "id": "7H9IATh0Ck5u"
      },
      "source": [
        "## Evento 3"
      ]
    },
    {
      "cell_type": "code",
      "execution_count": null,
      "metadata": {
        "id": "EEJp4bHnC1aT"
      },
      "outputs": [],
      "source": [
        "data_stations_.index = pd.to_datetime(data_stations_.index)\n",
        "data_inicio_filtro = pd.to_datetime('2015-05-01')\n",
        "data_fim_filtro = pd.to_datetime('2015-05-19')\n",
        "\n",
        "df_ev3 = data_stations_.loc[(data_stations_.index >= data_inicio_filtro) & (data_stations_.index <= data_fim_filtro)]\n",
        "df_ev3_transposto_t = df_ev3.T\n",
        "df_ev3_transposto_t\n",
        "\n",
        "\n",
        "# juntando os dataframes\n",
        "df_final_ev3 = pd.merge(df_ev3_transposto_t, df_recortado_lat_lon, left_index=True, right_index=True)\n",
        "df_final_ev3\n",
        "\n",
        "#exportar para CSV\n",
        "output_file_3 = 'Evento_3_to_idw.csv'\n",
        "\n",
        "# Exportar o DataFrame para o arquivo CSV\n",
        "df_final_ev3.to_csv(output_file_3, index=True)"
      ]
    },
    {
      "cell_type": "code",
      "execution_count": null,
      "metadata": {
        "id": "6V8P3Jk8h9-l"
      },
      "outputs": [],
      "source": [
        "df_ev3_transposto_t"
      ]
    },
    {
      "cell_type": "code",
      "execution_count": null,
      "metadata": {
        "id": "gfX6yKn0h6j3"
      },
      "outputs": [],
      "source": [
        "for col in df_ev3_transposto_t.columns:\n",
        "    values = df_ev3_transposto_t[col].values\n",
        "    idw_()"
      ]
    },
    {
      "cell_type": "markdown",
      "metadata": {
        "id": "Wykr8v6jCoqj"
      },
      "source": [
        "## Evento 4"
      ]
    },
    {
      "cell_type": "code",
      "execution_count": null,
      "metadata": {
        "id": "s_NvXdpzC2Iq"
      },
      "outputs": [],
      "source": [
        "data_stations_.index = pd.to_datetime(data_stations_.index)\n",
        "data_inicio_filtro = pd.to_datetime('2015-07-05')\n",
        "data_fim_filtro = pd.to_datetime('2015-08-11')\n",
        "\n",
        "df_ev4 = data_stations_.loc[(data_stations_.index >= data_inicio_filtro) & (data_stations_.index <= data_fim_filtro)]\n",
        "df_ev4_transposto_t = df_ev4.T\n",
        "df_ev4_transposto_t\n",
        "\n",
        "\n",
        "# juntando os dataframes\n",
        "df_final_ev4 = pd.merge(df_ev4_transposto_t, df_recortado_lat_lon, left_index=True, right_index=True)\n",
        "df_final_ev4\n",
        "\n",
        "#exportar para CSV\n",
        "output_file_4 = 'Evento_4_to_idw.csv'\n",
        "\n",
        "# Exportar o DataFrame para o arquivo CSV\n",
        "df_final_ev4.to_csv(output_file_4, index=True)"
      ]
    },
    {
      "cell_type": "code",
      "execution_count": null,
      "metadata": {
        "id": "6iKZF1iYiJnB"
      },
      "outputs": [],
      "source": [
        "df_ev4_transposto_t"
      ]
    },
    {
      "cell_type": "code",
      "execution_count": null,
      "metadata": {
        "id": "-te53TfviJbk"
      },
      "outputs": [],
      "source": [
        "for col in df_ev3_transposto_t.columns:\n",
        "    values = df_ev3_transposto_t[col].values\n",
        "    idw_()"
      ]
    },
    {
      "cell_type": "markdown",
      "metadata": {
        "id": "eapHT8DdCqdK"
      },
      "source": [
        "## Evento 5"
      ]
    },
    {
      "cell_type": "code",
      "execution_count": null,
      "metadata": {
        "id": "LSGAM6p4C3Uk"
      },
      "outputs": [],
      "source": [
        "data_stations_.index = pd.to_datetime(data_stations_.index)\n",
        "data_inicio_filtro = pd.to_datetime('2016-01-29')\n",
        "data_fim_filtro = pd.to_datetime('2016-02-10')\n",
        "\n",
        "df_ev5 = data_stations_.loc[(data_stations_.index >= data_inicio_filtro) & (data_stations_.index <= data_fim_filtro)]\n",
        "df_ev5_transposto_t = df_ev5.T\n",
        "df_ev5_transposto_t\n",
        "\n",
        "\n",
        "# juntando os dataframes\n",
        "df_final_ev5 = pd.merge(df_ev5_transposto_t, df_recortado_lat_lon, left_index=True, right_index=True)\n",
        "df_final_ev5\n",
        "\n",
        "#exportar para CSV\n",
        "output_file_5 = 'Evento_5_to_idw.csv'\n",
        "\n",
        "# Exportar o DataFrame para o arquivo CSV\n",
        "df_final_ev5.to_csv(output_file_5, index=True)"
      ]
    },
    {
      "cell_type": "code",
      "execution_count": null,
      "metadata": {
        "id": "4jNAU6S_iLZX"
      },
      "outputs": [],
      "source": [
        "df_ev5_transposto_t"
      ]
    },
    {
      "cell_type": "code",
      "execution_count": null,
      "metadata": {
        "id": "9XMTQ_8KiLQH"
      },
      "outputs": [],
      "source": [
        "for col in df_ev5_transposto_t.columns:\n",
        "    values = df_ev5_transposto_t[col].values\n",
        "    idw_()"
      ]
    },
    {
      "cell_type": "markdown",
      "metadata": {
        "id": "mCFAzBeSCr8a"
      },
      "source": [
        "## Evento 6"
      ]
    },
    {
      "cell_type": "code",
      "execution_count": null,
      "metadata": {
        "id": "KiWbsyyiC4rS"
      },
      "outputs": [],
      "source": [
        "data_stations_.index = pd.to_datetime(data_stations_.index)\n",
        "data_inicio_filtro = pd.to_datetime('2016-02-08')\n",
        "data_fim_filtro = pd.to_datetime('2016-02-19')\n",
        "\n",
        "df_ev6 = data_stations_.loc[(data_stations_.index >= data_inicio_filtro) & (data_stations_.index <= data_fim_filtro)]\n",
        "df_ev6_transposto_t = df_ev6.T\n",
        "df_ev6_transposto_t\n",
        "\n",
        "\n",
        "# juntando os dataframes\n",
        "df_final_ev6 = pd.merge(df_ev6_transposto_t, df_recortado_lat_lon, left_index=True, right_index=True)\n",
        "df_final_ev6\n",
        "\n",
        "#exportar para CSV\n",
        "output_file_6 = 'Evento_6_to_idw.csv'\n",
        "\n",
        "# Exportar o DataFrame para o arquivo CSV\n",
        "df_final_ev6.to_csv(output_file_6, index=True)"
      ]
    },
    {
      "cell_type": "code",
      "execution_count": null,
      "metadata": {
        "id": "xBcpdOjliNKX"
      },
      "outputs": [],
      "source": [
        "df_ev6_transposto_t"
      ]
    },
    {
      "cell_type": "code",
      "execution_count": null,
      "metadata": {
        "id": "4rzKUWQfiNBK"
      },
      "outputs": [],
      "source": [
        "for col in df_ev6_transposto_t.columns:\n",
        "    values = df_ev6_transposto_t[col].values\n",
        "    idw_()"
      ]
    },
    {
      "cell_type": "markdown",
      "metadata": {
        "id": "XKNnzC3CCtnF"
      },
      "source": [
        "## Evento 7"
      ]
    },
    {
      "cell_type": "code",
      "execution_count": null,
      "metadata": {
        "id": "IYDqv0VRC52V"
      },
      "outputs": [],
      "source": [
        "data_stations_.index = pd.to_datetime(data_stations_.index)\n",
        "data_inicio_filtro = pd.to_datetime('2016-05-14')\n",
        "data_fim_filtro = pd.to_datetime('2016-05-31')\n",
        "\n",
        "df_ev7 = data_stations_.loc[(data_stations_.index >= data_inicio_filtro) & (data_stations_.index <= data_fim_filtro)]\n",
        "df_ev7_transposto_t = df_ev7.T\n",
        "df_ev7_transposto_t\n",
        "\n",
        "\n",
        "# juntando os dataframes\n",
        "df_final_ev7 = pd.merge(df_ev7_transposto_t, df_recortado_lat_lon, left_index=True, right_index=True)\n",
        "df_final_ev7\n",
        "\n",
        "#exportar para CSV\n",
        "output_file_7 = 'Evento_7_to_idw.csv'\n",
        "\n",
        "# Exportar o DataFrame para o arquivo CSV\n",
        "df_final_ev7.to_csv(output_file_7, index=True)"
      ]
    },
    {
      "cell_type": "code",
      "execution_count": null,
      "metadata": {
        "id": "4vNSDAGOiO08"
      },
      "outputs": [],
      "source": [
        "df_ev7_transposto_t"
      ]
    },
    {
      "cell_type": "code",
      "execution_count": null,
      "metadata": {
        "id": "DxdsuVLCiOss"
      },
      "outputs": [],
      "source": [
        "for col in df_ev7_transposto_t.columns:\n",
        "    values = df_ev7_transposto_t[col].values\n",
        "    idw_()"
      ]
    },
    {
      "cell_type": "markdown",
      "metadata": {
        "id": "Fqu3d6EQCu16"
      },
      "source": [
        "## Evento 8"
      ]
    },
    {
      "cell_type": "code",
      "execution_count": null,
      "metadata": {
        "id": "IPb-_KdRC6Tt"
      },
      "outputs": [],
      "source": [
        "data_stations_.index = pd.to_datetime(data_stations_.index)\n",
        "data_inicio_filtro = pd.to_datetime('2016-05-28')\n",
        "data_fim_filtro = pd.to_datetime('2016-06-10')\n",
        "\n",
        "df_ev8 = data_stations_.loc[(data_stations_.index >= data_inicio_filtro) & (data_stations_.index <= data_fim_filtro)]\n",
        "df_ev8_transposto_t = df_ev8.T\n",
        "df_ev8_transposto_t\n",
        "\n",
        "\n",
        "# juntando os dataframes\n",
        "df_final_ev8 = pd.merge(df_ev8_transposto_t, df_recortado_lat_lon, left_index=True, right_index=True)\n",
        "df_final_ev8\n",
        "\n",
        "#exportar para CSV\n",
        "output_file_8 = 'Evento_8_to_idw.csv'\n",
        "\n",
        "# Exportar o DataFrame para o arquivo CSV\n",
        "df_final_ev8.to_csv(output_file_8, index=True)"
      ]
    },
    {
      "cell_type": "code",
      "execution_count": null,
      "metadata": {
        "id": "yGQ-IKHuiQlf"
      },
      "outputs": [],
      "source": [
        "df_ev8_transposto_t"
      ]
    },
    {
      "cell_type": "code",
      "execution_count": null,
      "metadata": {
        "id": "LWXX4KaTiQau"
      },
      "outputs": [],
      "source": [
        "for col in df_ev8_transposto_t.columns:\n",
        "    values = df_ev8_transposto_t[col].values\n",
        "    idw_()"
      ]
    },
    {
      "cell_type": "markdown",
      "metadata": {
        "id": "Jbksfj_2Cwhs"
      },
      "source": [
        "## Evento 9"
      ]
    },
    {
      "cell_type": "code",
      "execution_count": null,
      "metadata": {
        "id": "Q553UFj0C69E"
      },
      "outputs": [],
      "source": [
        "data_stations_.index = pd.to_datetime(data_stations_.index)\n",
        "data_inicio_filtro = pd.to_datetime('2019-06-28')\n",
        "data_fim_filtro = pd.to_datetime('2019-07-13')\n",
        "\n",
        "df_ev9 = data_stations_.loc[(data_stations_.index >= data_inicio_filtro) & (data_stations_.index <= data_fim_filtro)]\n",
        "df_ev9_transposto_t = df_ev9.T\n",
        "df_ev9_transposto_t\n",
        "\n",
        "\n",
        "# juntando os dataframes\n",
        "df_final_ev9 = pd.merge(df_ev9_transposto_t, df_recortado_lat_lon, left_index=True, right_index=True)\n",
        "#df_final_ev9\n",
        "\n",
        "#exportar para CSV\n",
        "output_file_9 = 'Evento_9_to_idw.csv'\n",
        "\n",
        "# Exportar o DataFrame para o arquivo CSV\n",
        "df_final_ev9.to_csv(output_file_9, index=True)"
      ]
    },
    {
      "cell_type": "code",
      "execution_count": null,
      "metadata": {
        "id": "MW0VtZe8iSCJ"
      },
      "outputs": [],
      "source": [
        "df_ev9_transposto_t"
      ]
    },
    {
      "cell_type": "code",
      "execution_count": null,
      "metadata": {
        "id": "gO47x2joiR5m"
      },
      "outputs": [],
      "source": [
        "for col in df_ev9_transposto_t.columns:\n",
        "    values = df_ev9_transposto_t[col].values\n",
        "    idw_()"
      ]
    },
    {
      "cell_type": "markdown",
      "metadata": {
        "id": "6BkNVDhSCxlV"
      },
      "source": [
        "## Evento 10"
      ]
    },
    {
      "cell_type": "code",
      "execution_count": null,
      "metadata": {
        "id": "EIE_MsA4C7hA"
      },
      "outputs": [],
      "source": [
        "data_stations_.index = pd.to_datetime(data_stations_.index)\n",
        "data_inicio_filtro = pd.to_datetime('2019-07-13')\n",
        "data_fim_filtro = pd.to_datetime('2019-07-23')\n",
        "\n",
        "df_ev10 = data_stations_.loc[(data_stations_.index >= data_inicio_filtro) & (data_stations_.index <= data_fim_filtro)]\n",
        "df_ev10_transposto_t = df_ev10.T\n",
        "df_ev10_transposto_t\n",
        "\n",
        "\n",
        "# juntando os dataframes\n",
        "df_final_ev10 = pd.merge(df_ev10_transposto_t, df_recortado_lat_lon, left_index=True, right_index=True)\n",
        "df_final_ev10\n",
        "\n",
        "#exportar para CSV\n",
        "#output_file_10 = 'Evento_10_to_idw.csv'\n",
        "\n",
        "# Exportar o DataFrame para o arquivo CSV\n",
        "#df_final_ev10.to_csv(output_file_10, index=True)"
      ]
    },
    {
      "cell_type": "code",
      "execution_count": null,
      "metadata": {
        "id": "RiZSrA3liTsx"
      },
      "outputs": [],
      "source": [
        "df_ev10_transposto_t"
      ]
    },
    {
      "cell_type": "code",
      "execution_count": null,
      "metadata": {
        "id": "s0mbZgT4iTe-"
      },
      "outputs": [],
      "source": [
        "for col in df_ev10_transposto_t.columns:\n",
        "    values = df_ev10_transposto_t[col].values\n",
        "    idw_()"
      ]
    },
    {
      "cell_type": "markdown",
      "metadata": {
        "id": "KBbeoRakCzku"
      },
      "source": [
        "## Evento 11"
      ]
    },
    {
      "cell_type": "code",
      "execution_count": null,
      "metadata": {
        "id": "NGRDG3rZC8AV"
      },
      "outputs": [],
      "source": [
        "data_stations_.index = pd.to_datetime(data_stations_.index)\n",
        "data_inicio_filtro = pd.to_datetime('2019-08-30')\n",
        "data_fim_filtro = pd.to_datetime('2019-09-11')\n",
        "\n",
        "df_ev11 = data_stations_.loc[(data_stations_.index >= data_inicio_filtro) & (data_stations_.index <= data_fim_filtro)]\n",
        "df_ev11_transposto_t = df_ev11.T\n",
        "df_ev11_transposto_t\n",
        "\n",
        "\n",
        "# juntando os dataframes\n",
        "df_final_ev11 = pd.merge(df_ev11_transposto_t, df_recortado_lat_lon, left_index=True, right_index=True)\n",
        "df_final_ev11\n",
        "\n",
        "#exportar para CSV\n",
        "output_file_11 = 'Evento_11_to_idw.csv'\n",
        "\n",
        "# Exportar o DataFrame para o arquivo CSV\n",
        "df_final_ev11.to_csv(output_file_11, index=True)"
      ]
    },
    {
      "cell_type": "code",
      "execution_count": null,
      "metadata": {
        "id": "ErxYIQqHiVTM"
      },
      "outputs": [],
      "source": [
        "df_ev11_transposto_t"
      ]
    },
    {
      "cell_type": "code",
      "execution_count": null,
      "metadata": {
        "id": "HUjloVfYiVKT"
      },
      "outputs": [],
      "source": [
        "for col in df_ev11_transposto_t.columns:\n",
        "    values = df_ev11_transposto_t[col].values\n",
        "    idw_()"
      ]
    },
    {
      "cell_type": "markdown",
      "metadata": {
        "id": "q8Eyb7NDBrWN"
      },
      "source": [
        "# visual"
      ]
    },
    {
      "cell_type": "markdown",
      "metadata": {
        "id": "Wjdpq6T8Pccv"
      },
      "source": [
        "### Painel de visualização gespla.visuals.py"
      ]
    },
    {
      "cell_type": "code",
      "execution_count": null,
      "metadata": {
        "cellView": "form",
        "id": "uYFPEBEvFvOS"
      },
      "outputs": [],
      "source": [
        "#@title\n",
        "def pannel_singlets(folder, dataframe_ts, varfield, dataframe_freq, bymonth, rangedetail, detail=True, flenm='Pannel', ylbls='m3/s',\n",
        "                    datefield='Date', scale='log', show=False):\n",
        "    \"\"\"\n",
        "\n",
        "    A customized function to plot a pannel for a single time series.\n",
        "\n",
        "\n",
        "    :param folder: string of folder path. Ex: \"C:/project/data\"\n",
        "    :param dataframe_ts: dataframe with the time series data\n",
        "    :param varfield: string of variable field in the dataframe of time series\n",
        "    :param dataframe_freq: dataframe of frequency analysis.\n",
        "    Must have a filed called 'Exeedance' and a field called 'Values'. Recommendation: use the tsa.frequency() function to get it\n",
        "    :param bymonth: dictionary of dataframes time series separated by month. Keys must be: 'January', 'February', ..., 'December'\n",
        "    Recommendation: use the resample.group_by_month() function to get it\n",
        "    :param rangedetail: tuple or list with strings of two range dates for the detail plot. Ex.: ('1990-12-29', '2000-01-30')\n",
        "    :param detail: boolean to allow the insertion of a detail plot. Default: True\n",
        "    :param flenm: string for the file name. Default: 'Pannel'\n",
        "    :param ylbls: string for the Y axis label.\n",
        "    :param datefield: string for the Date field in all dataframes. Default: 'Date'\n",
        "    :param scale: string for the scale of Y axis on plot b and plot c. Default: 'log'.\n",
        "    Options: 'linear', 'log', 'symlog', 'logit', 'function', 'functionlog'\n",
        "    :param show: boolean to show plot instead of saving to file\n",
        "    :return: string of file path\n",
        "    \"\"\"\n",
        "    #\n",
        "    fig = plt.figure(figsize=(10, 6))\n",
        "    gs = mpl.gridspec.GridSpec(2, 3, wspace=0.4, hspace=0.3, top=0.95, bottom=0.1, left=0.1, right=0.95)\n",
        "    # get dataframes\n",
        "    df1 = dataframe_ts.copy()\n",
        "    df2 = dataframe_freq.copy()\n",
        "    #\n",
        "    if detail:\n",
        "        dt_0 = pd.to_datetime(rangedetail[0])\n",
        "        dt_1 = pd.to_datetime(rangedetail[1])\n",
        "        df_inset = df1.query('{} >= \"{}\" and {} < \"{}\"'.format(datefield, dt_0, datefield, dt_1))\n",
        "    #\n",
        "    # Series plot\n",
        "    ax = plt.subplot(gs[0, :])\n",
        "    aux_str = r'$\\bf{' + 'a.  ' + '}$' + 'Full time series'\n",
        "    plt.title(aux_str, fontsize=10, loc='left')\n",
        "    plt.plot(df1[datefield], df1[varfield])\n",
        "    plt.ylim(0, (1.3 * np.max(df1[varfield])))\n",
        "    plt.ylabel(ylbls)\n",
        "    # plt.xlabel('Time')\n",
        "    plt.grid(True, 'major', axis='y')\n",
        "    #\n",
        "    # detail lines:\n",
        "    if detail:\n",
        "        ymax_h = np.max(df_inset[varfield].values)\n",
        "        ymin_h = np.min(df_inset[varfield].values)\n",
        "        lines_c = 'tab:orange'\n",
        "        plt.plot([dt_0, dt_0], [ymin_h, ymax_h], lines_c)\n",
        "        plt.plot([dt_1, dt_1], [ymin_h, ymax_h], lines_c)\n",
        "        plt.plot([dt_0, dt_1], [ymin_h, ymin_h], lines_c)\n",
        "        plt.plot([dt_0, dt_1], [ymax_h, ymax_h], lines_c)\n",
        "        #\n",
        "        # Detail plot\n",
        "        inset = ax.inset_axes([0.05, 0.67, 0.2, 0.3])\n",
        "        inset.plot(df_inset[datefield], df_inset[varfield])\n",
        "        len_inset = len(df_inset[datefield].values)\n",
        "        ticks = [df_inset[datefield].values[0], df_inset[datefield].values[int(len_inset/2)], df_inset[datefield].values[-1]]\n",
        "        inset.set_xticks(ticks)\n",
        "        inset.tick_params(axis='both', which='major', labelsize=8)\n",
        "        inset.grid(True, 'both')\n",
        "    #\n",
        "    # Exceedance curve\n",
        "    ax = plt.subplot(gs[1, 0])\n",
        "    aux_str = r'$\\bf{' + 'b.  ' + '}$' + 'Exceedance Prob. Curve'\n",
        "    plt.title(aux_str, fontsize=10, loc='left')\n",
        "    plt.plot(df2['Exceedance'], df2['Values'])\n",
        "    plt.yscale(scale)\n",
        "    plt.ylabel(ylbls)\n",
        "    plt.xlabel('Exceedance probability (%)', fontsize=10)\n",
        "    plt.grid(True, 'both')\n",
        "    #\n",
        "    # Violinplot\n",
        "    tpl = ('January', 'February', 'March', 'April', 'May', 'June', 'July',\n",
        "           'August', 'September', 'October', 'November', 'December')\n",
        "    violin_data = list()\n",
        "    for def_i in range(len(bymonth)):\n",
        "        lcl_y = bymonth[tpl[def_i]][varfield].values[:]\n",
        "        violin_data.append(lcl_y)\n",
        "    ax = plt.subplot(gs[1, 1:])\n",
        "    aux_str = r'$\\bf{' + 'c.  ' + '}$' + 'Seasonality Analysis'\n",
        "    plt.title(aux_str, fontsize=10, loc='left')\n",
        "    plt.ylabel(ylbls)\n",
        "    plt.yscale(scale)\n",
        "    ax.violinplot(violin_data, showmedians=True)\n",
        "    ax.set_xticks([1, 2, 3, 4, 5, 6, 7, 8, 9, 10, 11, 12])\n",
        "    ax.set_xticklabels(list('JFMAMJJASOND'))\n",
        "    plt.xlabel(\"Month\", fontsize=10)\n",
        "    #\n",
        "    if show:\n",
        "        plt.show()\n",
        "    else:\n",
        "        aux_str = folder + '/' + flenm + '.png'\n",
        "        plt.savefig(aux_str)\n",
        "        plt.close()\n",
        "    return aux_str"
      ]
    },
    {
      "cell_type": "code",
      "execution_count": null,
      "metadata": {
        "cellView": "form",
        "id": "EOIjGrqgFK1P"
      },
      "outputs": [],
      "source": [
        "#@title\n",
        "df_freq_flow_m = tsa.frequency(dataframe=df_flow, var_field='Flow', zero=True)\n",
        "by_month = resample.group_by_month(dataframe=df_flow, var_field='Flow')"
      ]
    },
    {
      "cell_type": "code",
      "execution_count": null,
      "metadata": {
        "id": "1Zsgt2WyGm0z",
        "cellView": "form"
      },
      "outputs": [],
      "source": [
        "#@title\n",
        "df_flow_d2m = resample.d2m_flow(dataframe=df_flow, var_field='Flow')\n",
        "print(df_flow_d2m.tail(10).to_string())\n",
        "#df_recortado = df_flow_d2m[df_flow_d2m['Date'].dt.year >= 2000]\n",
        "\n",
        "# a função pannel_singlets() exporta a figura com um painel visual\n",
        "figfile = pannel_singlets(\n",
        "    folder='./',\n",
        "    dataframe_ts=df_flow_d2m,\n",
        "    varfield='Mean',\n",
        "    dataframe_freq=df_freq_flow_m,\n",
        "    bymonth=by_month,\n",
        "    rangedetail=('2022-01-01', '2023-01-01'),\n",
        "    scale='linear',\n",
        "    #Options: 'linear', 'log', 'symlog', 'logit', 'function', 'functionlog'\n",
        "    show=True)"
      ]
    },
    {
      "cell_type": "markdown",
      "metadata": {
        "id": "m9h1ULB9PnS5"
      },
      "source": []
    },
    {
      "cell_type": "markdown",
      "metadata": {
        "id": "hnCz4S4UQXr4"
      },
      "source": [
        "# Medidas de acuracia do modelo"
      ]
    },
    {
      "cell_type": "code",
      "execution_count": null,
      "metadata": {
        "id": "iT1xKwW6QcbB"
      },
      "outputs": [],
      "source": [
        "ERRO = analyst.error(obs, sim) #Error function\n",
        "SQ_ERROR = analyst.sq_error(obs, sim) #Squared Error function\n",
        "MSE = analyst.mse(obs, sim) #Mean Squared Error (MSE) function\n",
        "RMSE = analyst.rmse(obs, sim)  #Root of Mean Squared Error (RMSE) function\n",
        "NRMSE = analyst.nrmse(obs, sim) #Normalized RMSE by the mean observed value\n",
        "NSE = analyst.nse(obs, sim) #Nash-Sutcliffe Efficiency (NSE) coeficient\n",
        "NNSE = analyst.nnse(obs, sim) # Normalized NSE function (NSE re-scaled to [0,1])\n",
        "KGE = analyst.kge(obs, sim) # Kling-Gupta Efficiency (KGE) coeficient Gupta et al. (2009)\n",
        "PBIAS = analyst.pbias(obs, sim) # P-Bias function\n",
        "    #Negative P-Bias ->> Too much water! - ET have to work harder to remove water from the system\n",
        "    #Positive P-Bias ->> Too less water! -  ET is draining too much water\n",
        "REG_LIN = analyst.linreg(obs, sim) # Linear regression model function"
      ]
    },
    {
      "cell_type": "markdown",
      "metadata": {
        "id": "uHiJl5Ecvs1o"
      },
      "source": [
        "# TESTE USO BASEFLOW"
      ]
    },
    {
      "cell_type": "code",
      "execution_count": null,
      "metadata": {
        "id": "IQS1fMiYvvnV"
      },
      "outputs": [],
      "source": [
        "import baseflow\n",
        "\n",
        "Q = np.array(df_flow['Flow'])\n",
        "\n",
        "#KGE=King-Gupta Efficiency\n",
        "\n",
        "b, KGEs = baseflow.separation(Q, date=None, area=None, ice=None, method='Eckhardt', return_kge=True)\n",
        "print(f'Best Method: {b.dtype.names[KGEs.argmax()]}')"
      ]
    },
    {
      "cell_type": "code",
      "execution_count": null,
      "metadata": {
        "id": "UFXOpoGUv2Hz"
      },
      "outputs": [],
      "source": [
        "Q"
      ]
    },
    {
      "cell_type": "code",
      "execution_count": null,
      "metadata": {
        "id": "JvUVrt6Xv6uL"
      },
      "outputs": [],
      "source": [
        "plt(b)"
      ]
    },
    {
      "cell_type": "code",
      "execution_count": null,
      "metadata": {
        "id": "Gg9xUo6Iv-PF"
      },
      "outputs": [],
      "source": [
        "KGEs"
      ]
    },
    {
      "cell_type": "code",
      "execution_count": null,
      "metadata": {
        "id": "Iiq7RAfMwPwm"
      },
      "outputs": [],
      "source": [
        "\n",
        "# Transformar a coluna 'coluna1' em um array\n",
        "array = np.array(df['coluna1'])\n",
        "\n",
        "# Imprimir o array resultante\n",
        "print(array)"
      ]
    }
  ],
  "metadata": {
    "colab": {
      "provenance": []
    },
    "kernelspec": {
      "display_name": "Python 3",
      "name": "python3"
    },
    "language_info": {
      "name": "python"
    }
  },
  "nbformat": 4,
  "nbformat_minor": 0
}